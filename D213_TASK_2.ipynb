{
 "cells": [
  {
   "cell_type": "markdown",
   "metadata": {},
   "source": [
    "# D213 - TASK 2: SENTIMENT ANALYSIS USING NEURAL NETWORKS.\n",
    "\n",
    "-------------------------------------------------------------------------------------------------------------------------------\n",
    "\n",
    "<a href=\"https://wgu.hosted.panopto.com/Panopto/Pages/Viewer.aspx?id=602d3074-7583-402e-9434-ad570102f75b\" target=\"_blank\"> Link to the Panopto Video </a>\n",
    "\n",
    "https://wgu.hosted.panopto.com/Panopto/Pages/Viewer.aspx?id=602d3074-7583-402e-9434-ad570102f75b\n",
    "\n",
    "-------------------------------------------------------------------------------------------------------------------------------"
   ]
  },
  {
   "cell_type": "markdown",
   "metadata": {},
   "source": [
    "#### Importing Libraries:"
   ]
  },
  {
   "cell_type": "code",
   "execution_count": 1,
   "metadata": {},
   "outputs": [
    {
     "name": "stderr",
     "output_type": "stream",
     "text": [
      "[nltk_data] Downloading package punkt to\n",
      "[nltk_data]     C:\\Users\\Ahmed\\AppData\\Roaming\\nltk_data...\n",
      "[nltk_data]   Package punkt is already up-to-date!\n",
      "[nltk_data] Downloading package stopwords to\n",
      "[nltk_data]     C:\\Users\\Ahmed\\AppData\\Roaming\\nltk_data...\n",
      "[nltk_data]   Package stopwords is already up-to-date!\n",
      "[nltk_data] Downloading package wordnet to\n",
      "[nltk_data]     C:\\Users\\Ahmed\\AppData\\Roaming\\nltk_data...\n",
      "[nltk_data]   Package wordnet is already up-to-date!\n"
     ]
    }
   ],
   "source": [
    "#importing the needed libraries.\n",
    "import pandas as pd\n",
    "pd.set_option('display.max_rows', None)\n",
    "pd.set_option('display.max_columns', None) #modified Pandas options to fully display the large dataset when needed\n",
    "pd.set_option('display.max_colwidth', 500)\n",
    "## !!! Trying to Display a full Dataframe may cause a problem.\n",
    "\n",
    "import numpy as np\n",
    "np.set_printoptions(precision=5, suppress=True)\n",
    "import matplotlib.pyplot as plt\n",
    "import seaborn as sns\n",
    "\n",
    "import re\n",
    "import nltk\n",
    "from nltk.corpus import stopwords\n",
    "from nltk.stem import WordNetLemmatizer\n",
    "from nltk.stem.porter import PorterStemmer\n",
    "nltk.download('punkt')\n",
    "nltk.download('stopwords')\n",
    "nltk.download('wordnet')\n",
    "import string\n",
    "\n",
    "import tensorflow as tf\n",
    "from tensorflow.keras.models import Sequential\n",
    "from tensorflow.keras.preprocessing.sequence import pad_sequences\n",
    "from tensorflow.keras.preprocessing.text import Tokenizer\n",
    "from tensorflow.keras.layers import LSTM,Dense,Dropout,SpatialDropout1D,Embedding\n",
    "from tensorflow.keras.callbacks import EarlyStopping\n",
    "from keras.models import load_model\n",
    "\n",
    "from sklearn.model_selection import train_test_split\n",
    "from sklearn.metrics import accuracy_score,confusion_matrix,classification_report\n",
    "\n",
    "\n",
    "import warnings\n",
    "warnings.filterwarnings('ignore') # Ignore warnings for better readability"
   ]
  },
  {
   "cell_type": "markdown",
   "metadata": {},
   "source": [
    "-------------------------------------------------------------------------------------------------------------------------------"
   ]
  },
  {
   "cell_type": "markdown",
   "metadata": {},
   "source": [
    "#### Part I:  Research Question\n",
    "\n",
    "##### A.  Describe the purpose of this data analysis by doing the following:\n",
    "\n",
    "##### 1.  Summarize one research question that you will answer using neural network models and NLP techniques. Be sure the research question is relevant to a real-world organizational situation and sentiment analysis captured in your chosen dataset."
   ]
  },
  {
   "cell_type": "markdown",
   "metadata": {},
   "source": [
    "Sentiment analysis is the process of determining whether language reflects a positive, negative, or neutral sentiment.\n",
    "Analyzing the sentiment of customers has many benefits for businesses (Karikari,2020). eg.\n",
    "* A company can filter customer feedback based on sentiments to identify things they have to improve about their services.\n",
    "* A company can manage its online reputation easily by monitoring the sentiment of comments customers write about their products.\n",
    "\n",
    "the question to be asked is how efficient is using neural network models and NLP techniques for sentiment analysis and monitoring the sentiment of comments or reviews written by customers through social media?\n"
   ]
  },
  {
   "cell_type": "markdown",
   "metadata": {},
   "source": [
    "##### 2.  Define the objectives or goals of the data analysis. Be sure the objectives or goals are reasonable within the scope of the research question and are represented in the available data."
   ]
  },
  {
   "cell_type": "markdown",
   "metadata": {},
   "source": [
    "The objective of the data analysis is to use the provided data in training a reliable neural network model using NLP techniques that can efficiently be used in sentiment analysis of comments or reviews written by customers of a company."
   ]
  },
  {
   "cell_type": "markdown",
   "metadata": {},
   "source": [
    "##### 3.  Identify a type of neural network capable of performing a text classification task that can be trained to produce useful predictions on text sequences on the selected data set."
   ]
  },
  {
   "cell_type": "markdown",
   "metadata": {},
   "source": [
    "Long short-term memory (LSTM) is an artificial recurrent neural network (RNN), well known for Its capability of learning long-term dependencies and to process entire sequences of data such as sequences of texts in this project\n",
    "\n",
    "The architecture of LSTM allows it to preserve the meaningful features of sequential data and to provide a good tool for sentiment analysis and prediction.\n",
    "\n",
    "https://en.wikipedia.org/wiki/Long_short-term_memory\n"
   ]
  },
  {
   "cell_type": "markdown",
   "metadata": {},
   "source": [
    "-------------------------------------------------------------------------------------------------------------------------------"
   ]
  },
  {
   "cell_type": "markdown",
   "metadata": {},
   "source": [
    "#### Part II:  Data Preparation\n",
    "\n",
    "##### B.  Summarize the data cleaning process by doing the following:\n",
    "\n",
    "##### 1.  Perform exploratory data analysis on the chosen dataset, and include an explanation of each of the following elements:\n",
    "\n",
    "•   presence of unusual characters (e.g., emojis, non-English characters, etc.)\n",
    "\n",
    "•   vocabulary size\n",
    "\n",
    "•   proposed word embedding length\n",
    "\n",
    "•   statistical justification for the chosen maximum sequence length"
   ]
  },
  {
   "cell_type": "markdown",
   "metadata": {},
   "source": [
    "##### Note: \n",
    "##### * Some values will be changed after data cleaning and preprocessing :"
   ]
  },
  {
   "cell_type": "markdown",
   "metadata": {},
   "source": [
    "The work was done using the 'UCI Sentiment Labeled Sentences Data set'\n",
    "The data came as a zipped file, containing three tab-delimited text files as following:"
   ]
  },
  {
   "cell_type": "code",
   "execution_count": 2,
   "metadata": {},
   "outputs": [
    {
     "data": {
      "text/html": [
       "<div>\n",
       "<style scoped>\n",
       "    .dataframe tbody tr th:only-of-type {\n",
       "        vertical-align: middle;\n",
       "    }\n",
       "\n",
       "    .dataframe tbody tr th {\n",
       "        vertical-align: top;\n",
       "    }\n",
       "\n",
       "    .dataframe thead th {\n",
       "        text-align: right;\n",
       "    }\n",
       "</style>\n",
       "<table border=\"1\" class=\"dataframe\">\n",
       "  <thead>\n",
       "    <tr style=\"text-align: right;\">\n",
       "      <th></th>\n",
       "      <th>Review</th>\n",
       "      <th>Score</th>\n",
       "    </tr>\n",
       "  </thead>\n",
       "  <tbody>\n",
       "    <tr>\n",
       "      <th>0</th>\n",
       "      <td>So there is no way for me to plug it in here in the US unless I go by a converter.</td>\n",
       "      <td>0</td>\n",
       "    </tr>\n",
       "    <tr>\n",
       "      <th>1</th>\n",
       "      <td>Good case, Excellent value.</td>\n",
       "      <td>1</td>\n",
       "    </tr>\n",
       "    <tr>\n",
       "      <th>2</th>\n",
       "      <td>Great for the jawbone.</td>\n",
       "      <td>1</td>\n",
       "    </tr>\n",
       "    <tr>\n",
       "      <th>3</th>\n",
       "      <td>Tied to charger for conversations lasting more than 45 minutes.MAJOR PROBLEMS!!</td>\n",
       "      <td>0</td>\n",
       "    </tr>\n",
       "    <tr>\n",
       "      <th>4</th>\n",
       "      <td>The mic is great.</td>\n",
       "      <td>1</td>\n",
       "    </tr>\n",
       "  </tbody>\n",
       "</table>\n",
       "</div>"
      ],
      "text/plain": [
       "                                                                               Review  \\\n",
       "0  So there is no way for me to plug it in here in the US unless I go by a converter.   \n",
       "1                                                         Good case, Excellent value.   \n",
       "2                                                              Great for the jawbone.   \n",
       "3     Tied to charger for conversations lasting more than 45 minutes.MAJOR PROBLEMS!!   \n",
       "4                                                                   The mic is great.   \n",
       "\n",
       "   Score  \n",
       "0      0  \n",
       "1      1  \n",
       "2      1  \n",
       "3      0  \n",
       "4      1  "
      ]
     },
     "execution_count": 2,
     "metadata": {},
     "output_type": "execute_result"
    }
   ],
   "source": [
    "df_1 = pd.read_csv(\"amazon_cells_labelled.txt\",sep=r'\\t',header=None, engine='python')\n",
    "df_2 = pd.read_csv(\"imdb_labelled.txt\",sep=r'\\t',header=None, engine='python')\n",
    "df_3 = pd.read_csv(\"yelp_labelled.txt\",sep=r'\\t',header=None, engine='python')\n",
    "\n",
    "df_raw=pd.concat([df_1,df_2,df_3],axis=0)\n",
    "\n",
    "df_raw.reset_index(drop= True,inplace= True)\n",
    "\n",
    "df_raw= df_raw.rename(columns = {0:'Review',1:'Score'})\n",
    "df_raw.head()"
   ]
  },
  {
   "cell_type": "markdown",
   "metadata": {},
   "source": [
    "##### •   presence of unusual characters (e.g., emojis, non-English characters, etc.)"
   ]
  },
  {
   "cell_type": "code",
   "execution_count": 3,
   "metadata": {},
   "outputs": [],
   "source": [
    "'''Custom function for extracting the unusual_characters characters in a df column '''\n",
    "def extract_unusual_characters(df,column):    \n",
    "    found_unusual_characters=[]\n",
    "    unusual_characters_reviews=[]\n",
    "    \n",
    "    for i in range(0,df.shape[0]):\n",
    "        unusual_characters=[char for char in (df.loc[i,column].strip()) if char not in string.printable]\n",
    "        if unusual_characters == []:\n",
    "            continue\n",
    "        found_unusual_characters.extend(unusual_characters)\n",
    "        unusual_characters_reviews.append([i,unusual_characters])\n",
    "        \n",
    "    found_unusual_characters=list(set(found_unusual_characters))    \n",
    "    return unusual_characters_reviews,found_unusual_characters    "
   ]
  },
  {
   "cell_type": "code",
   "execution_count": 4,
   "metadata": {},
   "outputs": [
    {
     "data": {
      "text/plain": [
       "'Reviews that contains unusual characters characters: '"
      ]
     },
     "metadata": {},
     "output_type": "display_data"
    },
    {
     "data": {
      "text/plain": [
       "[[1018, ['Â', '–']],\n",
       " [1080, ['Ã', '©']],\n",
       " [1178, ['Â', '…']],\n",
       " [1182, ['Â', '–']],\n",
       " [1424, ['Ã', '©']],\n",
       " [1469, ['Ã', '©']],\n",
       " [1495, ['Ã', '¥']],\n",
       " [1517, ['Â', '–']],\n",
       " [1557, ['Â', '—']],\n",
       " [1760, ['Â', '–']],\n",
       " [1767, ['Ã', '©']],\n",
       " [1863, ['Â', '–']],\n",
       " [1967, ['Â', '…']],\n",
       " [2150, ['Ã', '©']],\n",
       " [2598, ['Ã', '©']],\n",
       " [2823, ['Ã', 'ª']],\n",
       " [2915, ['Ã', '©']]]"
      ]
     },
     "metadata": {},
     "output_type": "display_data"
    },
    {
     "data": {
      "text/plain": [
       "'List of found unusual characters: '"
      ]
     },
     "metadata": {},
     "output_type": "display_data"
    },
    {
     "data": {
      "text/plain": [
       "['–', '—', '¥', '©', '…', 'ª', 'Â', 'Ã']"
      ]
     },
     "metadata": {},
     "output_type": "display_data"
    }
   ],
   "source": [
    "unusual_characters_reviews,found_unusual_characters = extract_unusual_characters(df_raw,'Review')\n",
    "display('Reviews that contains unusual characters characters: ' ,unusual_characters_reviews)\n",
    "display('List of found unusual characters: ' ,list(set(found_unusual_characters)))"
   ]
  },
  {
   "cell_type": "markdown",
   "metadata": {},
   "source": [
    "##### •   vocabulary size"
   ]
  },
  {
   "cell_type": "code",
   "execution_count": 5,
   "metadata": {},
   "outputs": [
    {
     "name": "stdout",
     "output_type": "stream",
     "text": [
      "Max review chars =  479\n",
      "Min review chars =  7\n",
      "\n",
      "\n",
      "Max review Words =  73\n",
      "Min review Words =  3\n"
     ]
    },
    {
     "data": {
      "text/html": [
       "<div>\n",
       "<style scoped>\n",
       "    .dataframe tbody tr th:only-of-type {\n",
       "        vertical-align: middle;\n",
       "    }\n",
       "\n",
       "    .dataframe tbody tr th {\n",
       "        vertical-align: top;\n",
       "    }\n",
       "\n",
       "    .dataframe thead th {\n",
       "        text-align: right;\n",
       "    }\n",
       "</style>\n",
       "<table border=\"1\" class=\"dataframe\">\n",
       "  <thead>\n",
       "    <tr style=\"text-align: right;\">\n",
       "      <th></th>\n",
       "      <th>Review</th>\n",
       "      <th>Score</th>\n",
       "    </tr>\n",
       "  </thead>\n",
       "  <tbody>\n",
       "    <tr>\n",
       "      <th>1125</th>\n",
       "      <td>10/10</td>\n",
       "      <td>1</td>\n",
       "    </tr>\n",
       "    <tr>\n",
       "      <th>1620</th>\n",
       "      <td>This is a masterful piece of film-making, with many themes simmering and occasionally boiling over in this warts and all study of the poet's bohemian, self-indulgent wartime years that span the aerial bombardments of London and the outward tranquillity of a Welsh coastal retreat - the borderlines between friendship, lust and love, dedication to art and experience versus practical concerns, jealousy, rivalry, cowardice and egotism versus heroism and self-sacrifice and more.</td>\n",
       "      <td>1</td>\n",
       "    </tr>\n",
       "  </tbody>\n",
       "</table>\n",
       "</div>"
      ],
      "text/plain": [
       "                                                                                                                                                                                                                                                                                                                                                                                                                                                                                               Review  \\\n",
       "1125                                                                                                                                                                                                                                                                                                                                                                                                                                                                                          10/10     \n",
       "1620  This is a masterful piece of film-making, with many themes simmering and occasionally boiling over in this warts and all study of the poet's bohemian, self-indulgent wartime years that span the aerial bombardments of London and the outward tranquillity of a Welsh coastal retreat - the borderlines between friendship, lust and love, dedication to art and experience versus practical concerns, jealousy, rivalry, cowardice and egotism versus heroism and self-sacrifice and more.     \n",
       "\n",
       "      Score  \n",
       "1125      1  \n",
       "1620      1  "
      ]
     },
     "execution_count": 5,
     "metadata": {},
     "output_type": "execute_result"
    }
   ],
   "source": [
    "length_reviews=df_raw['Review'].str.len()\n",
    "print('Max review chars = ',length_reviews.max())\n",
    "print('Min review chars = ',length_reviews.min())\n",
    "print('\\n')\n",
    "print('Max review Words = ',len((df_raw.loc[length_reviews.idxmax(),'Review'].split(' '))))\n",
    "print('Min review Words = ',len((df_raw.loc[length_reviews.idxmin(),'Review'].split(' '))))\n",
    "df_raw.iloc[[length_reviews.idxmin(),length_reviews.idxmax()],:]"
   ]
  },
  {
   "cell_type": "code",
   "execution_count": 6,
   "metadata": {},
   "outputs": [
    {
     "name": "stdout",
     "output_type": "stream",
     "text": [
      "Raw Data vocabulary size=  5272\n"
     ]
    }
   ],
   "source": [
    "# Edited after (Naik,2020)\n",
    "### Raw Data Vocabulary size\n",
    "init_voc_size=10000\n",
    "review = df_raw.Review.values\n",
    "tokenizer = Tokenizer(num_words=init_voc_size)\n",
    "tokenizer.fit_on_texts(review)\n",
    "vocab_size = len(tokenizer.word_index) + 1\n",
    "print('Raw Data vocabulary size= ',vocab_size)"
   ]
  },
  {
   "cell_type": "markdown",
   "metadata": {},
   "source": [
    "##### •   proposed word embedding length"
   ]
  },
  {
   "cell_type": "code",
   "execution_count": 7,
   "metadata": {},
   "outputs": [
    {
     "name": "stdout",
     "output_type": "stream",
     "text": [
      "Proposed word embedding length =  73\n"
     ]
    }
   ],
   "source": [
    "print('Proposed word embedding length = ',len((df_raw.loc[length_reviews.idxmax(),'Review'].split(' '))))"
   ]
  },
  {
   "cell_type": "markdown",
   "metadata": {},
   "source": [
    "##### •   statistical justification for the chosen maximum sequence length"
   ]
  },
  {
   "cell_type": "markdown",
   "metadata": {},
   "source": [
    "Maximum number of tokenized words of any review."
   ]
  },
  {
   "cell_type": "markdown",
   "metadata": {},
   "source": [
    "##### 2.  Describe the goals of the tokenization process, including any code generated and packages that are used to normalize text during the tokenization process."
   ]
  },
  {
   "cell_type": "markdown",
   "metadata": {},
   "source": [
    "Words tokenization is the division of long sentences and paragraphs into individual words. These tokenized words are then provided to machines or algorithms for further processing. Mostly such data frames are given as input to machine learning applications for performing text analysis.\n",
    "\n",
    "The vital part between tokenization and machine learning modeling is converting text into numeric data, as we know that machines understand numeric values much more straightforward. (Datascievo,2021)\n",
    "\n",
    "Datascievo. (2021) Tokenization in NLP | Nourishing Concepts by Python Examples.\n",
    "https://www.datascievo.com/tokenization-in-nlp/\n",
    "\n",
    "\n",
    "\n",
    "\n",
    "* Code is included in this notebook."
   ]
  },
  {
   "cell_type": "markdown",
   "metadata": {},
   "source": [
    "##### 3.  Explain the padding process used to standardize the length of sequences, including the following in your explanation:\n",
    "\n",
    "•   if the padding occurs before or after the text sequence\n",
    "\n",
    "•   a screenshot of a single padded sequence"
   ]
  },
  {
   "cell_type": "markdown",
   "metadata": {},
   "source": [
    "Padding is simply a process of adding layers of zeros to the input tokenized text to keep all inputs at the same level of dimensions, which is essential for ML or RNN applications.\n",
    "For the purpose of the study, using (LSTM) as a kind of Recurrent Neural network, padding at the beginning would be appropriate as RNN can not learn long-distance patterns. Padding at the beginning allows us to keep the sequences in the end hence RNN can make use of these sequences for the prediction of the next. (Shrestha,2020)\n"
   ]
  },
  {
   "cell_type": "markdown",
   "metadata": {},
   "source": [
    "* Screenshot of a single padded sequence taken from the current notebook.\n",
    "\n",
    "[![single-padded-se.png](https://i.postimg.cc/x81K7szn/single-padded-se.png)](https://postimg.cc/gX1XLHsT)"
   ]
  },
  {
   "cell_type": "markdown",
   "metadata": {},
   "source": [
    "##### 4.  Identify how many categories of sentiment will be used and an activation function for the final dense layer of the network."
   ]
  },
  {
   "cell_type": "markdown",
   "metadata": {},
   "source": [
    "The Scores consistes of two catigories , '1' for positive reviews and '0' for negative reviews."
   ]
  },
  {
   "cell_type": "code",
   "execution_count": 8,
   "metadata": {},
   "outputs": [
    {
     "data": {
      "text/plain": [
       "1    1500\n",
       "0    1500\n",
       "Name: Score, dtype: int64"
      ]
     },
     "metadata": {},
     "output_type": "display_data"
    }
   ],
   "source": [
    "display(df_raw['Score'].value_counts())"
   ]
  },
  {
   "cell_type": "markdown",
   "metadata": {},
   "source": [
    "##### 5.  Explain the steps used to prepare the data for analysis, including the size of the training, validation, and test set split."
   ]
  },
  {
   "cell_type": "markdown",
   "metadata": {},
   "source": [
    "##### The data prepared for analysis through several steps, as following:"
   ]
  },
  {
   "cell_type": "markdown",
   "metadata": {},
   "source": [
    "1. Data Cleaning:"
   ]
  },
  {
   "cell_type": "code",
   "execution_count": 9,
   "metadata": {},
   "outputs": [
    {
     "data": {
      "text/plain": [
       "True"
      ]
     },
     "execution_count": 9,
     "metadata": {},
     "output_type": "execute_result"
    }
   ],
   "source": [
    "# checking out duplicated rows\n",
    "df_raw.duplicated().any() "
   ]
  },
  {
   "cell_type": "code",
   "execution_count": 10,
   "metadata": {},
   "outputs": [
    {
     "data": {
      "text/html": [
       "<div>\n",
       "<style scoped>\n",
       "    .dataframe tbody tr th:only-of-type {\n",
       "        vertical-align: middle;\n",
       "    }\n",
       "\n",
       "    .dataframe tbody tr th {\n",
       "        vertical-align: top;\n",
       "    }\n",
       "\n",
       "    .dataframe thead th {\n",
       "        text-align: right;\n",
       "    }\n",
       "</style>\n",
       "<table border=\"1\" class=\"dataframe\">\n",
       "  <thead>\n",
       "    <tr style=\"text-align: right;\">\n",
       "      <th></th>\n",
       "      <th>Review</th>\n",
       "      <th>Score</th>\n",
       "    </tr>\n",
       "  </thead>\n",
       "  <tbody>\n",
       "    <tr>\n",
       "      <th>1788</th>\n",
       "      <td>10/10</td>\n",
       "      <td>1</td>\n",
       "    </tr>\n",
       "    <tr>\n",
       "      <th>1125</th>\n",
       "      <td>10/10</td>\n",
       "      <td>1</td>\n",
       "    </tr>\n",
       "    <tr>\n",
       "      <th>1363</th>\n",
       "      <td>Definitely worth checking out.</td>\n",
       "      <td>1</td>\n",
       "    </tr>\n",
       "    <tr>\n",
       "      <th>1090</th>\n",
       "      <td>Definitely worth checking out.</td>\n",
       "      <td>1</td>\n",
       "    </tr>\n",
       "    <tr>\n",
       "      <th>748</th>\n",
       "      <td>Does not fit.</td>\n",
       "      <td>0</td>\n",
       "    </tr>\n",
       "    <tr>\n",
       "      <th>446</th>\n",
       "      <td>Does not fit.</td>\n",
       "      <td>0</td>\n",
       "    </tr>\n",
       "    <tr>\n",
       "      <th>180</th>\n",
       "      <td>Don't buy this product.</td>\n",
       "      <td>0</td>\n",
       "    </tr>\n",
       "    <tr>\n",
       "      <th>543</th>\n",
       "      <td>Don't buy this product.</td>\n",
       "      <td>0</td>\n",
       "    </tr>\n",
       "    <tr>\n",
       "      <th>402</th>\n",
       "      <td>Excellent product for the price.</td>\n",
       "      <td>1</td>\n",
       "    </tr>\n",
       "    <tr>\n",
       "      <th>892</th>\n",
       "      <td>Excellent product for the price.</td>\n",
       "      <td>1</td>\n",
       "    </tr>\n",
       "    <tr>\n",
       "      <th>792</th>\n",
       "      <td>Great Phone.</td>\n",
       "      <td>1</td>\n",
       "    </tr>\n",
       "    <tr>\n",
       "      <th>290</th>\n",
       "      <td>Great Phone.</td>\n",
       "      <td>1</td>\n",
       "    </tr>\n",
       "    <tr>\n",
       "      <th>285</th>\n",
       "      <td>Great phone!.</td>\n",
       "      <td>1</td>\n",
       "    </tr>\n",
       "    <tr>\n",
       "      <th>187</th>\n",
       "      <td>Great phone!.</td>\n",
       "      <td>1</td>\n",
       "    </tr>\n",
       "    <tr>\n",
       "      <th>896</th>\n",
       "      <td>Great phone.</td>\n",
       "      <td>1</td>\n",
       "    </tr>\n",
       "    <tr>\n",
       "      <th>647</th>\n",
       "      <td>Great phone.</td>\n",
       "      <td>1</td>\n",
       "    </tr>\n",
       "    <tr>\n",
       "      <th>2334</th>\n",
       "      <td>I love this place.</td>\n",
       "      <td>1</td>\n",
       "    </tr>\n",
       "    <tr>\n",
       "      <th>2814</th>\n",
       "      <td>I love this place.</td>\n",
       "      <td>1</td>\n",
       "    </tr>\n",
       "    <tr>\n",
       "      <th>2380</th>\n",
       "      <td>I won't be back.</td>\n",
       "      <td>0</td>\n",
       "    </tr>\n",
       "    <tr>\n",
       "      <th>2843</th>\n",
       "      <td>I won't be back.</td>\n",
       "      <td>0</td>\n",
       "    </tr>\n",
       "    <tr>\n",
       "      <th>2505</th>\n",
       "      <td>I would not recommend this place.</td>\n",
       "      <td>0</td>\n",
       "    </tr>\n",
       "    <tr>\n",
       "      <th>2846</th>\n",
       "      <td>I would not recommend this place.</td>\n",
       "      <td>0</td>\n",
       "    </tr>\n",
       "    <tr>\n",
       "      <th>744</th>\n",
       "      <td>If you like a loud buzzing to override all your conversations, then this phone is for you!</td>\n",
       "      <td>0</td>\n",
       "    </tr>\n",
       "    <tr>\n",
       "      <th>179</th>\n",
       "      <td>If you like a loud buzzing to override all your conversations, then this phone is for you!</td>\n",
       "      <td>0</td>\n",
       "    </tr>\n",
       "    <tr>\n",
       "      <th>1572</th>\n",
       "      <td>Not recommended.</td>\n",
       "      <td>0</td>\n",
       "    </tr>\n",
       "    <tr>\n",
       "      <th>1585</th>\n",
       "      <td>Not recommended.</td>\n",
       "      <td>0</td>\n",
       "    </tr>\n",
       "    <tr>\n",
       "      <th>2383</th>\n",
       "      <td>The food was terrible.</td>\n",
       "      <td>0</td>\n",
       "    </tr>\n",
       "    <tr>\n",
       "      <th>2816</th>\n",
       "      <td>The food was terrible.</td>\n",
       "      <td>0</td>\n",
       "    </tr>\n",
       "    <tr>\n",
       "      <th>778</th>\n",
       "      <td>This is a great deal.</td>\n",
       "      <td>1</td>\n",
       "    </tr>\n",
       "    <tr>\n",
       "      <th>392</th>\n",
       "      <td>This is a great deal.</td>\n",
       "      <td>1</td>\n",
       "    </tr>\n",
       "    <tr>\n",
       "      <th>524</th>\n",
       "      <td>Works great!.</td>\n",
       "      <td>1</td>\n",
       "    </tr>\n",
       "    <tr>\n",
       "      <th>18</th>\n",
       "      <td>Works great!.</td>\n",
       "      <td>1</td>\n",
       "    </tr>\n",
       "    <tr>\n",
       "      <th>407</th>\n",
       "      <td>Works great.</td>\n",
       "      <td>1</td>\n",
       "    </tr>\n",
       "    <tr>\n",
       "      <th>262</th>\n",
       "      <td>Works great.</td>\n",
       "      <td>1</td>\n",
       "    </tr>\n",
       "  </tbody>\n",
       "</table>\n",
       "</div>"
      ],
      "text/plain": [
       "                                                                                          Review  \\\n",
       "1788                                                                                     10/10     \n",
       "1125                                                                                     10/10     \n",
       "1363                                                            Definitely worth checking out.     \n",
       "1090                                                            Definitely worth checking out.     \n",
       "748                                                                                Does not fit.   \n",
       "446                                                                                Does not fit.   \n",
       "180                                                                      Don't buy this product.   \n",
       "543                                                                      Don't buy this product.   \n",
       "402                                                             Excellent product for the price.   \n",
       "892                                                             Excellent product for the price.   \n",
       "792                                                                                 Great Phone.   \n",
       "290                                                                                 Great Phone.   \n",
       "285                                                                                Great phone!.   \n",
       "187                                                                                Great phone!.   \n",
       "896                                                                                 Great phone.   \n",
       "647                                                                                 Great phone.   \n",
       "2334                                                                          I love this place.   \n",
       "2814                                                                          I love this place.   \n",
       "2380                                                                            I won't be back.   \n",
       "2843                                                                            I won't be back.   \n",
       "2505                                                           I would not recommend this place.   \n",
       "2846                                                           I would not recommend this place.   \n",
       "744   If you like a loud buzzing to override all your conversations, then this phone is for you!   \n",
       "179   If you like a loud buzzing to override all your conversations, then this phone is for you!   \n",
       "1572                                                                          Not recommended.     \n",
       "1585                                                                          Not recommended.     \n",
       "2383                                                                      The food was terrible.   \n",
       "2816                                                                      The food was terrible.   \n",
       "778                                                                        This is a great deal.   \n",
       "392                                                                        This is a great deal.   \n",
       "524                                                                                Works great!.   \n",
       "18                                                                                 Works great!.   \n",
       "407                                                                                 Works great.   \n",
       "262                                                                                 Works great.   \n",
       "\n",
       "      Score  \n",
       "1788      1  \n",
       "1125      1  \n",
       "1363      1  \n",
       "1090      1  \n",
       "748       0  \n",
       "446       0  \n",
       "180       0  \n",
       "543       0  \n",
       "402       1  \n",
       "892       1  \n",
       "792       1  \n",
       "290       1  \n",
       "285       1  \n",
       "187       1  \n",
       "896       1  \n",
       "647       1  \n",
       "2334      1  \n",
       "2814      1  \n",
       "2380      0  \n",
       "2843      0  \n",
       "2505      0  \n",
       "2846      0  \n",
       "744       0  \n",
       "179       0  \n",
       "1572      0  \n",
       "1585      0  \n",
       "2383      0  \n",
       "2816      0  \n",
       "778       1  \n",
       "392       1  \n",
       "524       1  \n",
       "18        1  \n",
       "407       1  \n",
       "262       1  "
      ]
     },
     "execution_count": 10,
     "metadata": {},
     "output_type": "execute_result"
    }
   ],
   "source": [
    "# checking out duplicated rows\n",
    "df_raw[df_raw.duplicated(subset='Review',keep=False)].sort_values(by='Review')"
   ]
  },
  {
   "cell_type": "code",
   "execution_count": 11,
   "metadata": {},
   "outputs": [],
   "source": [
    "# Remove duplicated Reviews and save in a new df\n",
    "df_clean = df_raw.drop_duplicates(subset='Review')\n",
    "df_clean.reset_index(drop= True,inplace= True)"
   ]
  },
  {
   "cell_type": "code",
   "execution_count": 12,
   "metadata": {},
   "outputs": [],
   "source": [
    "### Dataset Cleaning\n",
    "# Edited after (Naik,2020)\n",
    "\n",
    "wordnet=WordNetLemmatizer()\n",
    "corpus = []\n",
    "for i in range(0, df_clean.shape[0]):\n",
    "    review = re.sub('[^a-zA-Z]', ' ', df_clean['Review'][i])\n",
    "    review = review.lower()\n",
    "    review = review.split()\n",
    "    \n",
    "    review = [wordnet.lemmatize(word) for word in review ] #if not word in stopwords.words('english')]\n",
    "    review = ' '.join(review)\n",
    "    corpus.append(review)\n",
    "df_clean.loc[:,'Review_1']=corpus"
   ]
  },
  {
   "cell_type": "code",
   "execution_count": 13,
   "metadata": {},
   "outputs": [
    {
     "data": {
      "text/html": [
       "<div>\n",
       "<style scoped>\n",
       "    .dataframe tbody tr th:only-of-type {\n",
       "        vertical-align: middle;\n",
       "    }\n",
       "\n",
       "    .dataframe tbody tr th {\n",
       "        vertical-align: top;\n",
       "    }\n",
       "\n",
       "    .dataframe thead th {\n",
       "        text-align: right;\n",
       "    }\n",
       "</style>\n",
       "<table border=\"1\" class=\"dataframe\">\n",
       "  <thead>\n",
       "    <tr style=\"text-align: right;\">\n",
       "      <th></th>\n",
       "      <th>Review</th>\n",
       "      <th>Score</th>\n",
       "      <th>Review_1</th>\n",
       "    </tr>\n",
       "  </thead>\n",
       "  <tbody>\n",
       "    <tr>\n",
       "      <th>0</th>\n",
       "      <td>So there is no way for me to plug it in here in the US unless I go by a converter.</td>\n",
       "      <td>0</td>\n",
       "      <td>so there is no way for me to plug it in here in the u unless i go by a converter</td>\n",
       "    </tr>\n",
       "    <tr>\n",
       "      <th>1</th>\n",
       "      <td>Good case, Excellent value.</td>\n",
       "      <td>1</td>\n",
       "      <td>good case excellent value</td>\n",
       "    </tr>\n",
       "    <tr>\n",
       "      <th>2</th>\n",
       "      <td>Great for the jawbone.</td>\n",
       "      <td>1</td>\n",
       "      <td>great for the jawbone</td>\n",
       "    </tr>\n",
       "    <tr>\n",
       "      <th>3</th>\n",
       "      <td>Tied to charger for conversations lasting more than 45 minutes.MAJOR PROBLEMS!!</td>\n",
       "      <td>0</td>\n",
       "      <td>tied to charger for conversation lasting more than minute major problem</td>\n",
       "    </tr>\n",
       "    <tr>\n",
       "      <th>4</th>\n",
       "      <td>The mic is great.</td>\n",
       "      <td>1</td>\n",
       "      <td>the mic is great</td>\n",
       "    </tr>\n",
       "    <tr>\n",
       "      <th>5</th>\n",
       "      <td>I have to jiggle the plug to get it to line up right to get decent volume.</td>\n",
       "      <td>0</td>\n",
       "      <td>i have to jiggle the plug to get it to line up right to get decent volume</td>\n",
       "    </tr>\n",
       "    <tr>\n",
       "      <th>6</th>\n",
       "      <td>If you have several dozen or several hundred contacts, then imagine the fun of sending each of them one by one.</td>\n",
       "      <td>0</td>\n",
       "      <td>if you have several dozen or several hundred contact then imagine the fun of sending each of them one by one</td>\n",
       "    </tr>\n",
       "    <tr>\n",
       "      <th>7</th>\n",
       "      <td>If you are Razr owner...you must have this!</td>\n",
       "      <td>1</td>\n",
       "      <td>if you are razr owner you must have this</td>\n",
       "    </tr>\n",
       "    <tr>\n",
       "      <th>8</th>\n",
       "      <td>Needless to say, I wasted my money.</td>\n",
       "      <td>0</td>\n",
       "      <td>needle to say i wasted my money</td>\n",
       "    </tr>\n",
       "    <tr>\n",
       "      <th>9</th>\n",
       "      <td>What a waste of money and time!.</td>\n",
       "      <td>0</td>\n",
       "      <td>what a waste of money and time</td>\n",
       "    </tr>\n",
       "    <tr>\n",
       "      <th>10</th>\n",
       "      <td>And the sound quality is great.</td>\n",
       "      <td>1</td>\n",
       "      <td>and the sound quality is great</td>\n",
       "    </tr>\n",
       "    <tr>\n",
       "      <th>11</th>\n",
       "      <td>He was very impressed when going from the original battery to the extended battery.</td>\n",
       "      <td>1</td>\n",
       "      <td>he wa very impressed when going from the original battery to the extended battery</td>\n",
       "    </tr>\n",
       "    <tr>\n",
       "      <th>12</th>\n",
       "      <td>If the two were seperated by a mere 5+ ft I started to notice excessive static and garbled sound from the headset.</td>\n",
       "      <td>0</td>\n",
       "      <td>if the two were seperated by a mere ft i started to notice excessive static and garbled sound from the headset</td>\n",
       "    </tr>\n",
       "    <tr>\n",
       "      <th>13</th>\n",
       "      <td>Very good quality though</td>\n",
       "      <td>1</td>\n",
       "      <td>very good quality though</td>\n",
       "    </tr>\n",
       "    <tr>\n",
       "      <th>14</th>\n",
       "      <td>The design is very odd, as the ear \"clip\" is not very comfortable at all.</td>\n",
       "      <td>0</td>\n",
       "      <td>the design is very odd a the ear clip is not very comfortable at all</td>\n",
       "    </tr>\n",
       "    <tr>\n",
       "      <th>15</th>\n",
       "      <td>Highly recommend for any one who has a blue tooth phone.</td>\n",
       "      <td>1</td>\n",
       "      <td>highly recommend for any one who ha a blue tooth phone</td>\n",
       "    </tr>\n",
       "    <tr>\n",
       "      <th>16</th>\n",
       "      <td>I advise EVERYONE DO NOT BE FOOLED!</td>\n",
       "      <td>0</td>\n",
       "      <td>i advise everyone do not be fooled</td>\n",
       "    </tr>\n",
       "    <tr>\n",
       "      <th>17</th>\n",
       "      <td>So Far So Good!.</td>\n",
       "      <td>1</td>\n",
       "      <td>so far so good</td>\n",
       "    </tr>\n",
       "    <tr>\n",
       "      <th>18</th>\n",
       "      <td>Works great!.</td>\n",
       "      <td>1</td>\n",
       "      <td>work great</td>\n",
       "    </tr>\n",
       "    <tr>\n",
       "      <th>19</th>\n",
       "      <td>It clicks into place in a way that makes you wonder how long that mechanism would last.</td>\n",
       "      <td>0</td>\n",
       "      <td>it click into place in a way that make you wonder how long that mechanism would last</td>\n",
       "    </tr>\n",
       "  </tbody>\n",
       "</table>\n",
       "</div>"
      ],
      "text/plain": [
       "                                                                                                                Review  \\\n",
       "0                                   So there is no way for me to plug it in here in the US unless I go by a converter.   \n",
       "1                                                                                          Good case, Excellent value.   \n",
       "2                                                                                               Great for the jawbone.   \n",
       "3                                      Tied to charger for conversations lasting more than 45 minutes.MAJOR PROBLEMS!!   \n",
       "4                                                                                                    The mic is great.   \n",
       "5                                           I have to jiggle the plug to get it to line up right to get decent volume.   \n",
       "6      If you have several dozen or several hundred contacts, then imagine the fun of sending each of them one by one.   \n",
       "7                                                                          If you are Razr owner...you must have this!   \n",
       "8                                                                                  Needless to say, I wasted my money.   \n",
       "9                                                                                     What a waste of money and time!.   \n",
       "10                                                                                     And the sound quality is great.   \n",
       "11                                 He was very impressed when going from the original battery to the extended battery.   \n",
       "12  If the two were seperated by a mere 5+ ft I started to notice excessive static and garbled sound from the headset.   \n",
       "13                                                                                            Very good quality though   \n",
       "14                                           The design is very odd, as the ear \"clip\" is not very comfortable at all.   \n",
       "15                                                            Highly recommend for any one who has a blue tooth phone.   \n",
       "16                                                                                 I advise EVERYONE DO NOT BE FOOLED!   \n",
       "17                                                                                                    So Far So Good!.   \n",
       "18                                                                                                       Works great!.   \n",
       "19                             It clicks into place in a way that makes you wonder how long that mechanism would last.   \n",
       "\n",
       "    Score  \\\n",
       "0       0   \n",
       "1       1   \n",
       "2       1   \n",
       "3       0   \n",
       "4       1   \n",
       "5       0   \n",
       "6       0   \n",
       "7       1   \n",
       "8       0   \n",
       "9       0   \n",
       "10      1   \n",
       "11      1   \n",
       "12      0   \n",
       "13      1   \n",
       "14      0   \n",
       "15      1   \n",
       "16      0   \n",
       "17      1   \n",
       "18      1   \n",
       "19      0   \n",
       "\n",
       "                                                                                                          Review_1  \n",
       "0                                 so there is no way for me to plug it in here in the u unless i go by a converter  \n",
       "1                                                                                        good case excellent value  \n",
       "2                                                                                            great for the jawbone  \n",
       "3                                          tied to charger for conversation lasting more than minute major problem  \n",
       "4                                                                                                 the mic is great  \n",
       "5                                        i have to jiggle the plug to get it to line up right to get decent volume  \n",
       "6     if you have several dozen or several hundred contact then imagine the fun of sending each of them one by one  \n",
       "7                                                                         if you are razr owner you must have this  \n",
       "8                                                                                  needle to say i wasted my money  \n",
       "9                                                                                   what a waste of money and time  \n",
       "10                                                                                  and the sound quality is great  \n",
       "11                               he wa very impressed when going from the original battery to the extended battery  \n",
       "12  if the two were seperated by a mere ft i started to notice excessive static and garbled sound from the headset  \n",
       "13                                                                                        very good quality though  \n",
       "14                                            the design is very odd a the ear clip is not very comfortable at all  \n",
       "15                                                          highly recommend for any one who ha a blue tooth phone  \n",
       "16                                                                              i advise everyone do not be fooled  \n",
       "17                                                                                                  so far so good  \n",
       "18                                                                                                      work great  \n",
       "19                            it click into place in a way that make you wonder how long that mechanism would last  "
      ]
     },
     "execution_count": 13,
     "metadata": {},
     "output_type": "execute_result"
    }
   ],
   "source": [
    "df_clean.head(20)"
   ]
  },
  {
   "cell_type": "code",
   "execution_count": 14,
   "metadata": {},
   "outputs": [],
   "source": [
    "df_clean['Review']=df_clean['Review_1']\n",
    "df_clean.drop(columns='Review_1',inplace=True)"
   ]
  },
  {
   "cell_type": "code",
   "execution_count": 15,
   "metadata": {},
   "outputs": [
    {
     "data": {
      "text/html": [
       "<div>\n",
       "<style scoped>\n",
       "    .dataframe tbody tr th:only-of-type {\n",
       "        vertical-align: middle;\n",
       "    }\n",
       "\n",
       "    .dataframe tbody tr th {\n",
       "        vertical-align: top;\n",
       "    }\n",
       "\n",
       "    .dataframe thead th {\n",
       "        text-align: right;\n",
       "    }\n",
       "</style>\n",
       "<table border=\"1\" class=\"dataframe\">\n",
       "  <thead>\n",
       "    <tr style=\"text-align: right;\">\n",
       "      <th></th>\n",
       "      <th>Review</th>\n",
       "      <th>Score</th>\n",
       "    </tr>\n",
       "  </thead>\n",
       "  <tbody>\n",
       "    <tr>\n",
       "      <th>1115</th>\n",
       "      <td></td>\n",
       "      <td>1</td>\n",
       "    </tr>\n",
       "  </tbody>\n",
       "</table>\n",
       "</div>"
      ],
      "text/plain": [
       "     Review  Score\n",
       "1115             1"
      ]
     },
     "execution_count": 15,
     "metadata": {},
     "output_type": "execute_result"
    }
   ],
   "source": [
    "#checking for empty Rows After Cleaning\n",
    "length_reviews=df_clean['Review'].str.len()\n",
    "df_clean[length_reviews==0]"
   ]
  },
  {
   "cell_type": "code",
   "execution_count": 16,
   "metadata": {},
   "outputs": [],
   "source": [
    "df_clean.drop(df_clean[length_reviews==0].index,inplace=True)\n",
    "\n",
    "df_clean.reset_index(drop= True,inplace= True)"
   ]
  },
  {
   "cell_type": "code",
   "execution_count": 17,
   "metadata": {},
   "outputs": [
    {
     "name": "stdout",
     "output_type": "stream",
     "text": [
      "Max review chars =  461\n",
      "Min review chars =  5\n",
      "\n",
      "\n",
      "Max review Words =  74\n",
      "Min review Words =  1\n"
     ]
    },
    {
     "data": {
      "text/html": [
       "<div>\n",
       "<style scoped>\n",
       "    .dataframe tbody tr th:only-of-type {\n",
       "        vertical-align: middle;\n",
       "    }\n",
       "\n",
       "    .dataframe tbody tr th {\n",
       "        vertical-align: top;\n",
       "    }\n",
       "\n",
       "    .dataframe thead th {\n",
       "        text-align: right;\n",
       "    }\n",
       "</style>\n",
       "<table border=\"1\" class=\"dataframe\">\n",
       "  <thead>\n",
       "    <tr style=\"text-align: right;\">\n",
       "      <th></th>\n",
       "      <th>Review</th>\n",
       "      <th>Score</th>\n",
       "    </tr>\n",
       "  </thead>\n",
       "  <tbody>\n",
       "    <tr>\n",
       "      <th>1151</th>\n",
       "      <td>awful</td>\n",
       "      <td>0</td>\n",
       "    </tr>\n",
       "    <tr>\n",
       "      <th>1607</th>\n",
       "      <td>this is a masterful piece of film making with many theme simmering and occasionally boiling over in this wart and all study of the poet s bohemian self indulgent wartime year that span the aerial bombardment of london and the outward tranquillity of a welsh coastal retreat the borderline between friendship lust and love dedication to art and experience versus practical concern jealousy rivalry cowardice and egotism versus heroism and self sacrifice and more</td>\n",
       "      <td>1</td>\n",
       "    </tr>\n",
       "  </tbody>\n",
       "</table>\n",
       "</div>"
      ],
      "text/plain": [
       "                                                                                                                                                                                                                                                                                                                                                                                                                                                                             Review  \\\n",
       "1151                                                                                                                                                                                                                                                                                                                                                                                                                                                                          awful   \n",
       "1607  this is a masterful piece of film making with many theme simmering and occasionally boiling over in this wart and all study of the poet s bohemian self indulgent wartime year that span the aerial bombardment of london and the outward tranquillity of a welsh coastal retreat the borderline between friendship lust and love dedication to art and experience versus practical concern jealousy rivalry cowardice and egotism versus heroism and self sacrifice and more   \n",
       "\n",
       "      Score  \n",
       "1151      0  \n",
       "1607      1  "
      ]
     },
     "execution_count": 17,
     "metadata": {},
     "output_type": "execute_result"
    }
   ],
   "source": [
    "length_reviews=df_clean['Review'].str.len()\n",
    "print('Max review chars = ',length_reviews.max())\n",
    "print('Min review chars = ',length_reviews.min())\n",
    "print('\\n')\n",
    "print('Max review Words = ',len((df_clean.loc[length_reviews.idxmax(),'Review'].split(' '))))\n",
    "print('Min review Words = ',len((df_clean.loc[length_reviews.idxmin(),'Review'].split(' '))))\n",
    "df_clean.iloc[[length_reviews.idxmin(),length_reviews.idxmax()],:]"
   ]
  },
  {
   "cell_type": "code",
   "execution_count": 18,
   "metadata": {},
   "outputs": [
    {
     "name": "stdout",
     "output_type": "stream",
     "text": [
      "<class 'pandas.core.frame.DataFrame'>\n",
      "RangeIndex: 2982 entries, 0 to 2981\n",
      "Data columns (total 2 columns):\n",
      " #   Column  Non-Null Count  Dtype \n",
      "---  ------  --------------  ----- \n",
      " 0   Review  2982 non-null   object\n",
      " 1   Score   2982 non-null   int64 \n",
      "dtypes: int64(1), object(1)\n",
      "memory usage: 46.7+ KB\n"
     ]
    }
   ],
   "source": [
    "df_clean.info()"
   ]
  },
  {
   "cell_type": "markdown",
   "metadata": {},
   "source": [
    "2. Data Preprocessing:"
   ]
  },
  {
   "cell_type": "code",
   "execution_count": 19,
   "metadata": {},
   "outputs": [],
   "source": [
    "# Edited after (Naik,2020)\n",
    "### Vocabulary size\n",
    "init_voc_size=10000\n",
    "review = df_clean.Review.values\n",
    "tokenizer = Tokenizer(num_words=init_voc_size)\n",
    "tokenizer.fit_on_texts(review)"
   ]
  },
  {
   "cell_type": "code",
   "execution_count": 20,
   "metadata": {},
   "outputs": [
    {
     "name": "stdout",
     "output_type": "stream",
     "text": [
      "Cleaned Data vocabulary size=  4689\n"
     ]
    }
   ],
   "source": [
    "vocab_size = len(tokenizer.word_index) + 1\n",
    "encoded_docs = tokenizer.texts_to_sequences(review)\n",
    "padded_sequence = pad_sequences(encoded_docs,padding='pre')\n",
    "print('Cleaned Data vocabulary size= ',vocab_size)"
   ]
  },
  {
   "cell_type": "code",
   "execution_count": 21,
   "metadata": {},
   "outputs": [
    {
     "name": "stdout",
     "output_type": "stream",
     "text": [
      "{'the': 1, 'and': 2, 'a': 3, 'i': 4, 'it': 5, 'is': 6, 'to': 7, 'this': 8, 'of': 9, 'wa': 10, 'in': 11, 'for': 12, 'that': 13, 'not': 14, 't': 15, 'with': 16, 's': 17, 'my': 18, 'very': 19, 'good': 20, 'on': 21, 'you': 22, 'movie': 23, 'great': 24, 'but': 25, 'film': 26, 'have': 27, 'are': 28, 'phone': 29, 'so': 30, 'one': 31, 'all': 32, 'be': 33, 'had': 34, 'at': 35, 'time': 36, 'like': 37, 'food': 38, 'place': 39, 'just': 40, 'there': 41, 'service': 42, 'work': 43, 'they': 44, 'an': 45, 'were': 46, 'we': 47, 'if': 48, 'from': 49, 'bad': 50, 'really': 51, 'well': 52, 'out': 53, 'ha': 54, 'would': 55, 'about': 56, 'can': 57, 'no': 58, 'or': 59, 'your': 60, 'only': 61, 'don': 62, 'by': 63, 'best': 64, 'here': 65, 'even': 66, 'ever': 67, 'up': 68, 'also': 69, 'will': 70, 'back': 71, 'me': 72, 'when': 73, 'go': 74, 'get': 75, 'more': 76, 'than': 77, 'quality': 78, 'he': 79, 've': 80, 'love': 81, 'what': 82, 'make': 83, 'character': 84, 'made': 85, 'which': 86, 'because': 87, 'how': 88, 'too': 89, 'headset': 90, 'product': 91, 'm': 92, 'do': 93, 'their': 94, 'some': 95, 'sound': 96, 'any': 97, 'could': 98, 'nice': 99, 'thing': 100, 'better': 101, 'excellent': 102, 'never': 103, 'after': 104, 'been': 105, 'who': 106, 'much': 107, 'recommend': 108, 'again': 109, 'use': 110, 'other': 111, 'did': 112, 'our': 113, 'way': 114, 'battery': 115, 'his': 116, 'think': 117, 'first': 118, 'look': 119, 'them': 120, 'pretty': 121, 'price': 122, 'see': 123, 'acting': 124, 'didn': 125, 'ear': 126, 'year': 127, 'over': 128, 'say': 129, 'most': 130, 'worst': 131, 'now': 132, 'still': 133, 'got': 134, 'case': 135, 'minute': 136, 'everything': 137, 'enough': 138, 'doe': 139, 'two': 140, 'little': 141, 'disappointed': 142, 'am': 143, 'every': 144, 'right': 145, 'going': 146, 'these': 147, 'being': 148, 'amazing': 149, 'scene': 150, 'then': 151, 'waste': 152, 'people': 153, 'real': 154, 'off': 155, 'problem': 156, 'definitely': 157, 'know': 158, 'story': 159, 'money': 160, 'lot': 161, 'experience': 162, 'terrible': 163, 'new': 164, 'both': 165, 'star': 166, 'came': 167, 'into': 168, 'life': 169, 'piece': 170, 'give': 171, 'friendly': 172, 'actor': 173, 'day': 174, 'doesn': 175, 'few': 176, 'many': 177, 'plot': 178, 'her': 179, 'restaurant': 180, 'far': 181, 'poor': 182, 'want': 183, 'call': 184, 'used': 185, 'u': 186, 'long': 187, 'd': 188, 'worth': 189, 'come': 190, 'nothing': 191, 'seen': 192, 'she': 193, 'while': 194, 'take': 195, 'screen': 196, 'quite': 197, 'won': 198, 'script': 199, 'wonderful': 200, 'line': 201, 'happy': 202, 'feel': 203, 'fit': 204, 'hour': 205, 'always': 206, 'highly': 207, 'camera': 208, 'down': 209, 'found': 210, 'll': 211, 'anyone': 212, 'wasn': 213, 'show': 214, 'delicious': 215, 'charger': 216, 'last': 217, 'car': 218, 'performance': 219, 'easy': 220, 'thought': 221, 'part': 222, 'another': 223, 'watching': 224, 'vega': 225, 'went': 226, 'bought': 227, 'absolutely': 228, 'loved': 229, 'fine': 230, 'should': 231, 'end': 232, 'find': 233, 'item': 234, 'worked': 235, 'around': 236, 'funny': 237, 'before': 238, 'probably': 239, 'however': 240, 'awful': 241, 'comfortable': 242, 'buy': 243, 'since': 244, 'big': 245, 'job': 246, 'same': 247, 'slow': 248, 'awesome': 249, 'horrible': 250, 'must': 251, 'impressed': 252, 'cool': 253, 'music': 254, 'where': 255, 'try': 256, 'those': 257, 'totally': 258, 'watch': 259, 'staff': 260, 'eat': 261, 'though': 262, 'talk': 263, 'picture': 264, 'bluetooth': 265, 'order': 266, 'black': 267, 'such': 268, 'couldn': 269, 'small': 270, 'cheap': 271, 'fantastic': 272, 'night': 273, 'overall': 274, 'family': 275, 'old': 276, 'suck': 277, 'cast': 278, 'chicken': 279, 'server': 280, 'steak': 281, 'pizza': 282, 'beautiful': 283, 'reception': 284, 'kind': 285, 'side': 286, 'ordered': 287, 'customer': 288, 'hand': 289, 'stupid': 290, 'said': 291, 'menu': 292, 'perfect': 293, 'special': 294, 'salad': 295, 'dish': 296, 'charge': 297, 'sure': 298, 'need': 299, 'actually': 300, 'play': 301, 'done': 302, 'avoid': 303, 'bit': 304, 'low': 305, 'especially': 306, 'next': 307, 'fresh': 308, 'burger': 309, 'everyone': 310, 'bar': 311, 'least': 312, 'purchase': 313, 'working': 314, 'tried': 315, 'between': 316, 'simply': 317, 'felt': 318, 'anything': 319, 'hard': 320, 're': 321, 'coming': 322, 'interesting': 323, 'each': 324, 'without': 325, 'hear': 326, 'device': 327, 'expect': 328, 'white': 329, 'fast': 330, 'cell': 331, 'completely': 332, 'almost': 333, 'either': 334, 'game': 335, 'away': 336, 'liked': 337, 'man': 338, 'art': 339, 'enjoyed': 340, 'writing': 341, 'director': 342, 'worse': 343, 'taste': 344, 'table': 345, 'wait': 346, 'meal': 347, 'flavor': 348, 'plug': 349, 'design': 350, 'motorola': 351, 'left': 352, 'turn': 353, 'short': 354, 'clear': 355, 'seriously': 356, 'different': 357, 'super': 358, 'using': 359, 'set': 360, 'whole': 361, 'effect': 362, 'rather': 363, 'bland': 364, 'review': 365, 'through': 366, 'fact': 367, 'buffet': 368, 'feeling': 369, 'dialogue': 370, 'selection': 371, 'sushi': 372, 'volume': 373, 'several': 374, 'started': 375, 'three': 376, 'month': 377, 'feature': 378, 'second': 379, 'week': 380, 'light': 381, 'full': 382, 'may': 383, 'getting': 384, 'perfectly': 385, 'put': 386, 'stay': 387, 'incredible': 388, 'extremely': 389, 'mess': 390, 'tell': 391, 'return': 392, 'fry': 393, 'disappointing': 394, 'looking': 395, 'having': 396, 'crap': 397, 'keep': 398, 'understand': 399, 'unfortunately': 400, 'took': 401, 'sucked': 402, 'friend': 403, 'enjoy': 404, 'believe': 405, 'top': 406, 'word': 407, 'saw': 408, 'kid': 409, 'watched': 410, 'atmosphere': 411, 'value': 412, 'yet': 413, 'hold': 414, 'let': 415, 'received': 416, 'huge': 417, 'high': 418, 'during': 419, 'le': 420, 'once': 421, 'certainly': 422, 'disappointment': 423, 'care': 424, 'hot': 425, 'deal': 426, 'oh': 427, 'wrong': 428, 'barely': 429, 'truly': 430, 'mediocre': 431, 'soon': 432, 'ending': 433, 'boring': 434, 'tasty': 435, 'sauce': 436, 'fun': 437, 'wasted': 438, 'original': 439, 'kept': 440, 'world': 441, 'button': 442, 'song': 443, 'series': 444, 'home': 445, 'cost': 446, 'style': 447, 'strong': 448, 'pleased': 449, 'house': 450, 'voice': 451, 'area': 452, 'glad': 453, 'human': 454, 'company': 455, 'gave': 456, 'couple': 457, 'face': 458, 'none': 459, 'own': 460, 'something': 461, 'shot': 462, 'tv': 463, 'together': 464, 'easily': 465, 'inside': 466, 'predictable': 467, 'cinematography': 468, 'played': 469, 'why': 470, 'drama': 471, 'fan': 472, 'waitress': 473, 'spot': 474, 'cold': 475, 'sandwich': 476, 'lunch': 477, 'meat': 478, 'breakfast': 479, 'waited': 480, 'decent': 481, 'owner': 482, 'helpful': 483, 'recommended': 484, 'priced': 485, 'verizon': 486, 'dropped': 487, 'seems': 488, 'wear': 489, 'broke': 490, 'free': 491, 'jabra': 492, 'wife': 493, 'check': 494, 'lost': 495, 'child': 496, 'junk': 497, 'amazon': 498, 'ago': 499, 'self': 500, 'trying': 501, 'wanted': 502, 'today': 503, 'unit': 504, 'under': 505, 'role': 506, 'cannot': 507, 'guess': 508, 'else': 509, 'making': 510, 'girl': 511, 'half': 512, 'directing': 513, 'horror': 514, 'myself': 515, 'playing': 516, 'him': 517, 'heart': 518, 'eating': 519, 'potato': 520, 'beer': 521, 'clean': 522, 'simple': 523, 'hate': 524, 'garbage': 525, 'audio': 526, 'mind': 527, 'perhaps': 528, 'player': 529, 'cover': 530, 'arrived': 531, 'quickly': 532, 'although': 533, 'ask': 534, 'wouldn': 535, 'color': 536, 'obviously': 537, 'mean': 538, 'mostly': 539, 'expected': 540, 'important': 541, 'cable': 542, 'someone': 543, 'weak': 544, 'reason': 545, 'average': 546, 'finally': 547, 'waiting': 548, 'break': 549, 'given': 550, 'eye': 551, 'quick': 552, 'plus': 553, 'point': 554, 'pay': 555, 'told': 556, 'entire': 557, 'wall': 558, 'fails': 559, 'rating': 560, 'lack': 561, 'cinema': 562, 'amount': 563, 'itself': 564, 'twice': 565, 'suspense': 566, 'classic': 567, 'action': 568, 'hope': 569, 'location': 570, 'tender': 571, 'dessert': 572, 'drink': 573, 'dining': 574, 'spicy': 575, 'rude': 576, 'chip': 577, 'tasted': 578, 'unless': 579, 'book': 580, 'reasonable': 581, 'front': 582, 'later': 583, 'choice': 584, 'within': 585, 'fall': 586, 'earpiece': 587, 'signal': 588, 'software': 589, 'brilliant': 590, 'literally': 591, 'superb': 592, 'internet': 593, 'charm': 594, 'v': 595, 'hit': 596, 'useless': 597, 'room': 598, 'authentic': 599, 'mistake': 600, 'nokia': 601, 'outside': 602, 'others': 603, 'mention': 604, 'might': 605, 'solid': 606, 'store': 607, 'touch': 608, 'above': 609, 'isn': 610, 'joke': 611, 'course': 612, 'needed': 613, 'whatever': 614, 'management': 615, 'setting': 616, 'rest': 617, 'joy': 618, 'non': 619, 'hilarious': 620, 'budget': 621, 'single': 622, 'editing': 623, 'level': 624, 'flick': 625, 'written': 626, 'portrayal': 627, 'annoying': 628, 'business': 629, 'bring': 630, 'maybe': 631, 'possible': 632, 'beyond': 633, 'close': 634, 'john': 635, 'hole': 636, 'sick': 637, 'subtle': 638, 'seeing': 639, 'guy': 640, 'drive': 641, 'comedy': 642, 'served': 643, 'overpriced': 644, 'warm': 645, 'portion': 646, 'waiter': 647, 'attentive': 648, 'cooked': 649, 'town': 650, 'ambiance': 651, 'dinner': 652, 'blue': 653, 'direction': 654, 'below': 655, 'loud': 656, 'instead': 657, 'large': 658, 'headphone': 659, 'particular': 660, 'party': 661, 'sometimes': 662, 'longer': 663, 'dont': 664, 'flaw': 665, 'number': 666, 'basically': 667, 'drop': 668, 'seemed': 669, 'offer': 670, 'option': 671, 'whether': 672, 'thin': 673, 'bother': 674, 'range': 675, 'living': 676, 'whatsoever': 677, 'adorable': 678, 'poorly': 679, 'clever': 680, 'lacking': 681, 'start': 682, 'exactly': 683, 'dead': 684, 'plastic': 685, 'note': 686, 'difficult': 687, 'result': 688, 'seem': 689, 'zero': 690, 'walked': 691, 'idea': 692, 'samsung': 693, 'beat': 694, 'extra': 695, 'connection': 696, 'happened': 697, 'despite': 698, 'etc': 699, 'elsewhere': 700, 'cut': 701, 'period': 702, 'rare': 703, 'until': 704, 'wow': 705, 'ridiculous': 706, 'running': 707, 'head': 708, 'casting': 709, 'history': 710, 'lovely': 711, 'lady': 712, 'believable': 713, 'sat': 714, 'mouth': 715, 'terrific': 716, 'trip': 717, 'rent': 718, 'fish': 719, 'attempt': 720, 'hitchcock': 721, 'thriller': 722, 'actress': 723, 'considering': 724, 'memorable': 725, 'sweet': 726, 'become': 727, 'leave': 728, 'throughout': 729, 'looked': 730, 'delight': 731, 'damn': 732, 'pho': 733, 'taco': 734, 'shrimp': 735, 'pasta': 736, 'razr': 737, 'clip': 738, 'website': 739, 'run': 740, 'charging': 741, 'owned': 742, 'mobile': 743, 'instruction': 744, 'provided': 745, 'pull': 746, 'moving': 747, 'sturdy': 748, 'complaint': 749, 'person': 750, 'bargain': 751, 'decision': 752, 'shipping': 753, 'rated': 754, 'impressive': 755, 'rock': 756, 'leather': 757, 'bt': 758, 'stuff': 759, 'forever': 760, 'tool': 761, 'graphic': 762, 'tip': 763, 'recently': 764, 'incredibly': 765, 'reasonably': 766, 'form': 767, 'issue': 768, 'embarrassing': 769, 'favorite': 770, 'cute': 771, 'buying': 772, 'cant': 773, 'belt': 774, 'data': 775, 'along': 776, 'help': 777, 'satisfied': 778, 'clarity': 779, 'wish': 780, 'size': 781, 'turned': 782, 'reading': 783, 'memory': 784, 'computer': 785, 'ability': 786, 'palm': 787, 'ended': 788, 'replace': 789, 'total': 790, 'please': 791, 'due': 792, 'stop': 793, 'trash': 794, 'wind': 795, 'rate': 796, 'video': 797, 'generally': 798, 'thumb': 799, 'dirty': 800, 'haven': 801, 'utterly': 802, 'ok': 803, 'flat': 804, 'audience': 805, 'empty': 806, 'main': 807, 'consider': 808, 'production': 809, 'th': 810, 'deserves': 811, 'lame': 812, 'moment': 813, 'green': 814, 'tom': 815, 'often': 816, 'aren': 817, 'list': 818, 'theme': 819, 'imagination': 820, 'cult': 821, 'cartoon': 822, 'lead': 823, 'silent': 824, 'age': 825, 'usual': 826, 'themselves': 827, 'pathetic': 828, 'lacked': 829, 'plain': 830, 'soundtrack': 831, 'spoiler': 832, 'water': 833, 'nut': 834, 'dry': 835, 'dog': 836, 'involved': 837, 'particularly': 838, 'insult': 839, 'roll': 840, 'documentary': 841, 'crowd': 842, 'recent': 843, 'par': 844, 'unbelievable': 845, 'rice': 846, 'sub': 847, 'sad': 848, 'asked': 849, 'beef': 850, 'seafood': 851, 'tasteless': 852, 'wine': 853, 'thai': 854, 'eaten': 855, 'bathroom': 856, 'seated': 857, 'bacon': 858, 'ice': 859, 'bread': 860, 'egg': 861, 'chef': 862, 'fried': 863, 'soup': 864, 'anytime': 865, 'conversation': 866, 'mic': 867, 'contact': 868, 'sending': 869, 'advise': 870, 'pair': 871, 'pocket': 872, 'pc': 873, 'included': 874, 'min': 875, 'worthless': 876, 'thats': 877, 'mp': 878, 'keyboard': 879, 'e': 880, 'forget': 881, 'support': 882, 'angle': 883, 'clearly': 884, 'glass': 885, 'situation': 886, 'fairly': 887, 'trouble': 888, 'station': 889, 'purchased': 890, 'boy': 891, 'plan': 892, 'comfortably': 893, 'failed': 894, 'description': 895, 'previous': 896, 'share': 897, 'wasting': 898, 'network': 899, 'o': 900, 'tone': 901, 'noise': 902, 'nearly': 903, 'anyway': 904, 'able': 905, 'lightweight': 906, 'hair': 907, 'market': 908, 'type': 909, 'aspect': 910, 'smell': 911, 'drain': 912, 'unreliable': 913, 'seller': 914, 'plantronics': 915, 'charged': 916, 'strip': 917, 'lg': 918, 'gotten': 919, 'immediately': 920, 'easier': 921, 'appealing': 922, 'called': 923, 'happier': 924, 'effective': 925, 'weird': 926, 'appearance': 927, 'warning': 928, 'q': 929, 'expensive': 930, 'bill': 931, 'im': 932, 'earlier': 933, 'missed': 934, 'cingular': 935, 'hated': 936, 'ringtones': 937, 'effort': 938, 'doing': 939, 'killer': 940, 'treo': 941, 'usb': 942, 'genuine': 943, 'red': 944, 'third': 945, 'ready': 946, 'chinese': 947, 'crisp': 948, 'power': 949, 'outlet': 950, 'passed': 951, 'sign': 952, 'somewhat': 953, 'son': 954, 'carry': 955, 'date': 956, 'addition': 957, 'disgusting': 958, 'five': 959, 'yes': 960, 'foot': 961, 'checked': 962, 'sister': 963, 'exceptional': 964, 'leaf': 965, 'wonderfully': 966, 'control': 967, 'christmas': 968, 'directed': 969, 'young': 970, 'meaning': 971, 'showed': 972, 'tale': 973, 'greatest': 974, 'gem': 975, 'true': 976, 'masterpiece': 977, 'massive': 978, 'pg': 979, 'complete': 980, 'ed': 981, 'convincing': 982, 'honestly': 983, 'follow': 984, 'energy': 985, 'dialog': 986, 'pretentious': 987, 'occasionally': 988, 'including': 989, 'paper': 990, 'episode': 991, 'chemistry': 992, 'fear': 993, 'depth': 994, 'bunch': 995, 'paid': 996, 'crazy': 997, 'storyline': 998, 'boyfriend': 999, 'gone': 1000, 'emotion': 1001, 'already': 1002, 'torture': 1003, 'pleasant': 1004, 'premise': 1005, 'ups': 1006, 'ray': 1007, 'charles': 1008, 'daughter': 1009, 'remember': 1010, 'attention': 1011, 'master': 1012, 'visual': 1013, 'mexican': 1014, 'indeed': 1015, 'thoroughly': 1016, 'theater': 1017, 'intelligence': 1018, 'reviewer': 1019, 'intelligent': 1020, 'sense': 1021, 'entertaining': 1022, 'relationship': 1023, 'bored': 1024, 'writer': 1025, 'towards': 1026, 'drago': 1027, 'enjoyable': 1028, 'excuse': 1029, 'god': 1030, 'created': 1031, 'scamp': 1032, 'charming': 1033, 'american': 1034, 'death': 1035, 'space': 1036, 'conclusion': 1037, 'ten': 1038, 'final': 1039, 'serious': 1040, 'mickey': 1041, 'james': 1042, 'credit': 1043, 'vibe': 1044, 'dark': 1045, 'honest': 1046, 'known': 1047, 'nasty': 1048, 'thinking': 1049, 'heard': 1050, 'dance': 1051, 'italian': 1052, 'beginning': 1053, 'belly': 1054, 'appreciate': 1055, 'puppet': 1056, 'yourself': 1057, 'salmon': 1058, 'bite': 1059, 'visit': 1060, 'establishment': 1061, 'husband': 1062, 'yummy': 1063, 'pork': 1064, 'cream': 1065, 'bay': 1066, 'phoenix': 1067, 'wing': 1068, 'live': 1069, 'folk': 1070, 'tea': 1071, 'vegetable': 1072, 'bean': 1073, 'manager': 1074, 'jawbone': 1075, 'lasting': 1076, 'dozen': 1077, 'imagine': 1078, 'needle': 1079, 'static': 1080, 'odd': 1081, 'wonder': 1082, 'fire': 1083, 'mother': 1084, 'combination': 1085, 'speed': 1086, 'gonna': 1087, 'returned': 1088, 'protection': 1089, 'machine': 1090, 'gadget': 1091, 'lock': 1092, 'ipod': 1093, 'quiet': 1094, 'saying': 1095, 'packaged': 1096, 'construction': 1097, 'load': 1098, 'ease': 1099, 'buyer': 1100, 'beware': 1101, 'supposedly': 1102, 'match': 1103, 'pro': 1104, 'expectation': 1105, 'display': 1106, 'sex': 1107, 'keypad': 1108, 'setup': 1109, 'earbud': 1110, 'coverage': 1111, 'tremendous': 1112, 'experienced': 1113, 'hoping': 1114, 'message': 1115, 'w': 1116, 'sharp': 1117, 'handsfree': 1118, 'g': 1119, 'buck': 1120, 'replacement': 1121, 'ring': 1122, 'strange': 1123, 'dollar': 1124, 'sony': 1125, 'comfort': 1126, 'appears': 1127, 'scary': 1128, 'giving': 1129, 'scratched': 1130, 'wise': 1131, 'microphone': 1132, 'uncomfortable': 1133, 'plugged': 1134, 'driving': 1135, 'neither': 1136, 'flip': 1137, 'inexpensive': 1138, 'sitting': 1139, 'los': 1140, 'angeles': 1141, 'wireless': 1142, 'save': 1143, 'era': 1144, 'alone': 1145, 'key': 1146, 'fi': 1147, 'wearing': 1148, 'sunglass': 1149, 'returning': 1150, 'changing': 1151, 'worthwhile': 1152, 'pricing': 1153, 'regret': 1154, 'user': 1155, 'pitiful': 1156, 'cellphone': 1157, 'holster': 1158, 'function': 1159, 'amazed': 1160, 'thanks': 1161, 'edge': 1162, 'refund': 1163, 'properly': 1164, 'flawed': 1165, 'forced': 1166, 'speaker': 1167, 'constructed': 1168, 'holding': 1169, 'sprint': 1170, 'development': 1171, 'breaking': 1172, 'stopped': 1173, 'pack': 1174, 'apart': 1175, 'comment': 1176, 'surprised': 1177, 'fabulous': 1178, 'tinny': 1179, 'overly': 1180, 'placed': 1181, 'falling': 1182, 'tiny': 1183, 'four': 1184, 'spring': 1185, 'interested': 1186, 'continue': 1187, 'pairing': 1188, 'balance': 1189, 'explain': 1190, 'biggest': 1191, 'stand': 1192, 'occupied': 1193, 'ripped': 1194, 'mini': 1195, 'open': 1196, 'r': 1197, 'iphone': 1198, 'multiple': 1199, 'freedom': 1200, 'mark': 1201, 'plenty': 1202, 'convenient': 1203, 'bottom': 1204, 'wooden': 1205, 'boot': 1206, 'sorry': 1207, 'double': 1208, 'sounded': 1209, 'everywhere': 1210, 'father': 1211, 'send': 1212, 'describe': 1213, 'letting': 1214, 'material': 1215, 'beep': 1216, 'managed': 1217, 'seat': 1218, 'otherwise': 1219, 'complain': 1220, 'lousy': 1221, 'painful': 1222, 'disappoint': 1223, 'speak': 1224, 'baby': 1225, 'delivers': 1226, 'sea': 1227, 'faux': 1228, 'significant': 1229, 'pure': 1230, 'brilliance': 1231, 'sequel': 1232, 'talented': 1233, 'fare': 1234, 'hill': 1235, 'grace': 1236, 'negative': 1237, 'cause': 1238, 'pointless': 1239, 'anne': 1240, 'parent': 1241, 'gross': 1242, 'provoking': 1243, 'paced': 1244, 'lion': 1245, 'acted': 1246, 'touching': 1247, 'scenery': 1248, 'mature': 1249, 'remake': 1250, 'nobody': 1251, 'putting': 1252, 'tension': 1253, 'conflict': 1254, 'handled': 1255, 'hell': 1256, 'disaster': 1257, 'treat': 1258, 'yeah': 1259, 'girlfriend': 1260, 'stereotype': 1261, 'paul': 1262, 'woman': 1263, 'brain': 1264, 'redeeming': 1265, 'appalling': 1266, 'present': 1267, 'talent': 1268, 'screenwriter': 1269, 'step': 1270, 'industry': 1271, 'indulgent': 1272, 'spent': 1273, 'ball': 1274, 'singing': 1275, 'bore': 1276, 'dancing': 1277, 'dvd': 1278, 'struck': 1279, 'contained': 1280, 'aerial': 1281, 'thrilled': 1282, 'deeply': 1283, 'interest': 1284, 'narrative': 1285, 'sequence': 1286, 'stunning': 1287, 'fx': 1288, 'surprisingly': 1289, 'released': 1290, 'rank': 1291, 'journey': 1292, 'summary': 1293, 'weren': 1294, 'billy': 1295, 'possibly': 1296, 'trilogy': 1297, 'favourite': 1298, 'judge': 1299, 'wrap': 1300, 'female': 1301, 'smart': 1302, 'twist': 1303, 'bakery': 1304, 'stage': 1305, 'laugh': 1306, 'modern': 1307, 'scared': 1308, 'supposed': 1309, 'learn': 1310, 'photography': 1311, 'member': 1312, 'huston': 1313, 'steve': 1314, 'ruthless': 1315, 'stick': 1316, 'war': 1317, 'example': 1318, 'building': 1319, 'angel': 1320, 'clich': 1321, 'thrown': 1322, 'box': 1323, 'professional': 1324, 'scale': 1325, 'glance': 1326, 'score': 1327, 'frightening': 1328, 'oscar': 1329, 'knew': 1330, 'relation': 1331, 'stanwyck': 1332, 'fat': 1333, 'killing': 1334, 'footage': 1335, 'opened': 1336, 'sort': 1337, 'behind': 1338, 'race': 1339, 'happen': 1340, 'change': 1341, 'unconvincing': 1342, 'produced': 1343, 'early': 1344, 'martin': 1345, 'racial': 1346, 'imaginative': 1347, 'watchable': 1348, 'pace': 1349, 'lighting': 1350, 'past': 1351, 'nonsense': 1352, 'exquisite': 1353, 'guest': 1354, 'south': 1355, 'force': 1356, 'delightful': 1357, 'beautifully': 1358, 'wilkinson': 1359, 'male': 1360, 'laughable': 1361, 'begin': 1362, 'late': 1363, 'giallo': 1364, 'event': 1365, 'highlight': 1366, 'spend': 1367, 'write': 1368, 'stink': 1369, 'pm': 1370, 'stayed': 1371, 'dream': 1372, 'doubt': 1373, 'hip': 1374, 'miyazaki': 1375, 'realized': 1376, 'animation': 1377, 'added': 1378, 'texture': 1379, 'recommendation': 1380, 'brought': 1381, 'sashimi': 1382, 'moist': 1383, 'frozen': 1384, 'greek': 1385, 'dressing': 1386, 'pita': 1387, 'hummus': 1388, 'duck': 1389, 'appetizer': 1390, 'salt': 1391, 'chewy': 1392, 'cafe': 1393, 'bartender': 1394, 'ambience': 1395, 'lover': 1396, 'busy': 1397, 'delish': 1398, 'melt': 1399, 'cheese': 1400, 'subway': 1401, 'ate': 1402, 'stale': 1403, 'treated': 1404, 'vegetarian': 1405, 'healthy': 1406, 'decor': 1407, 'butter': 1408, 'gyro': 1409, 'insulted': 1410, 'brunch': 1411, 'soggy': 1412, 'lobster': 1413, 'flavorful': 1414, 'generous': 1415, 'patio': 1416, 'outstanding': 1417, 'pulled': 1418, 'mom': 1419, 'equally': 1420, 'pancake': 1421, 'door': 1422, 'stomach': 1423, 'regular': 1424, 'biscuit': 1425, 'group': 1426, 'homemade': 1427, 'edible': 1428, 'seating': 1429, 'salsa': 1430, 'major': 1431, 'extended': 1432, 'notice': 1433, 'tooth': 1434, 'commercial': 1435, 'earphone': 1436, 'unusable': 1437, 'contract': 1438, 'juice': 1439, 'regarding': 1440, 'pda': 1441, 'neat': 1442, 'essentially': 1443, 'microsoft': 1444, 'tech': 1445, 'elegant': 1446, 'skip': 1447, 'died': 1448, 'docking': 1449, 'advertised': 1450, 'handy': 1451, 'cheaper': 1452, 'seamlessly': 1453, 'apparently': 1454, 'relatively': 1455, 'resolution': 1456, 'slim': 1457, 'toast': 1458, 'sleek': 1459, 'compromise': 1460, 'basic': 1461, 'unhappy': 1462, 'winner': 1463, 'realize': 1464, 'careful': 1465, 'logitech': 1466, 'recognition': 1467, 'stated': 1468, 'blackberry': 1469, 'technology': 1470, 'wired': 1471, 'faster': 1472, 'build': 1473, 'whine': 1474, 'communication': 1475, 'maintain': 1476, 'shouldn': 1477, 'c': 1478, 'thank': 1479, 'igo': 1480, 'connected': 1481, 'h': 1482, 'latest': 1483, 'storage': 1484, 'functionality': 1485, 'dropping': 1486, 'weight': 1487, 'hardly': 1488, 'consumer': 1489, 'background': 1490, 'usually': 1491, 'excited': 1492, 'additional': 1493, 'gel': 1494, 'purpose': 1495, 'glove': 1496, 'secure': 1497, 'gosh': 1498, 'attractive': 1499, 'rubber': 1500, 'unbearable': 1501, 'caused': 1502, 'flimsy': 1503, 'flawlessly': 1504, 'rotating': 1505, 'thru': 1506, 'cat': 1507, 'removing': 1508, 'compliment': 1509, 'state': 1510, 'allow': 1511, 'dialing': 1512, 'rip': 1513, 'recharge': 1514, 'practically': 1515, 'add': 1516, 'boost': 1517, 'vehicle': 1518, 'cradle': 1519, 'jerk': 1520, 'finished': 1521, 'ringing': 1522, 'auto': 1523, 'reverse': 1524, 'hurt': 1525, 'push': 1526, 'skype': 1527, 'exterior': 1528, 'shipped': 1529, 'promptly': 1530, 'prompt': 1531, 'noticed': 1532, 'colored': 1533, 'cheaply': 1534, 'att': 1535, 'distorted': 1536, 'forgot': 1537, 'model': 1538, 'enter': 1539, 'modest': 1540, 'dying': 1541, 'built': 1542, 'install': 1543, 'purchasing': 1544, 'moto': 1545, 'figure': 1546, 'pad': 1547, 'fully': 1548, 'card': 1549, 'timely': 1550, 'update': 1551, 'procedure': 1552, 'cumbersome': 1553, 'delivery': 1554, 'vx': 1555, 'switch': 1556, 'receiving': 1557, 'exchanged': 1558, 'described': 1559, 'nyc': 1560, 'defective': 1561, 'unacceptable': 1562, 'catching': 1563, 'timeframe': 1564, 'source': 1565, 'standard': 1566, 'ugly': 1567, 'improvement': 1568, 'accidentally': 1569, 'listening': 1570, 'window': 1571, 'inch': 1572, 'kitchen': 1573, 'practical': 1574, 'ample': 1575, 'eargels': 1576, 'channel': 1577, 'numerous': 1578, 'frustration': 1579, 'understanding': 1580, 'wire': 1581, 'adapter': 1582, 'broken': 1583, 'operate': 1584, 'paired': 1585, 'finger': 1586, 'normally': 1587, 'brand': 1588, 'transfer': 1589, 'performed': 1590, 'echo': 1591, 'warranty': 1592, 'produce': 1593, 'luck': 1594, 'exchange': 1595, 'utter': 1596, 'loop': 1597, 'download': 1598, 'designed': 1599, 'smoothly': 1600, 'study': 1601, 'access': 1602, 'somehow': 1603, 'flash': 1604, 'prime': 1605, 'jack': 1606, 'accept': 1607, 'except': 1608, 'medium': 1609, 'allows': 1610, 'allowing': 1611, 'crashed': 1612, 'quit': 1613, 'bell': 1614, 'via': 1615, 'span': 1616, 'provides': 1617, 'classy': 1618, 'mainly': 1619, 'metro': 1620, 'smoke': 1621, 'highest': 1622, 'protector': 1623, 'wont': 1624, 'impossible': 1625, 'refused': 1626, 'discount': 1627, 'coupon': 1628, 'p': 1629, 'talking': 1630, 'telephone': 1631, 'ordering': 1632, 'awkward': 1633, 'row': 1634, 'current': 1635, 'answer': 1636, 'read': 1637, 'laptop': 1638, 'discomfort': 1639, 'normal': 1640, 'confusing': 1641, 'lose': 1642, 'cutout': 1643, 'wild': 1644, 'loose': 1645, 'receive': 1646, 'lightly': 1647, 'against': 1648, 'z': 1649, 'center': 1650, 'certain': 1651, 'unsatisfactory': 1652, 'hype': 1653, 'covered': 1654, 'blew': 1655, 'flop': 1656, 'whom': 1657, 'became': 1658, 'jimmy': 1659, 'term': 1660, 'fill': 1661, 'imaginable': 1662, 'create': 1663, 'canada': 1664, 'unfunny': 1665, 'generic': 1666, 'morgan': 1667, 'jonah': 1668, 'lazy': 1669, 'presence': 1670, 'obvious': 1671, 'lesser': 1672, 'french': 1673, 'whiny': 1674, 'future': 1675, 'warmth': 1676, 'worry': 1677, 'delivering': 1678, 'unpredictable': 1679, 'badly': 1680, 'alexander': 1681, 'artist': 1682, 'lived': 1683, 'maker': 1684, 'superbly': 1685, 'b': 1686, 'checking': 1687, 'heaven': 1688, 'nun': 1689, 'church': 1690, 'tonight': 1691, 'uplifting': 1692, 'frankly': 1693, 'club': 1694, 'lane': 1695, 'chick': 1696, 'correct': 1697, 'bold': 1698, 'idiot': 1699, 'accused': 1700, 'afraid': 1701, 'villain': 1702, 'tremendously': 1703, 'sandra': 1704, 'bullock': 1705, 'losing': 1706, 'dramatic': 1707, 'central': 1708, 'core': 1709, 'following': 1710, 'viewing': 1711, 'quinn': 1712, 'theatre': 1713, 'disliked': 1714, 'mad': 1715, 'cardboard': 1716, 'predictably': 1717, 'crafted': 1718, 'handle': 1719, 'crayon': 1720, 'depressing': 1721, 'racism': 1722, 'join': 1723, 'charisma': 1724, 'explanation': 1725, 'stocking': 1726, 'hasn': 1727, 'drag': 1728, 'hero': 1729, 'wayne': 1730, 'older': 1731, 'hadn': 1732, 'noteworthy': 1733, 'blood': 1734, 'forth': 1735, 'jamie': 1736, 'genius': 1737, 'hence': 1738, 'mishima': 1739, 'uninteresting': 1740, 'chilly': 1741, 'culture': 1742, 'schrader': 1743, 'realistic': 1744, 'site': 1745, 'chance': 1746, 'sens': 1747, 'june': 1748, 'angry': 1749, 'sour': 1750, 'matter': 1751, 'noir': 1752, 'complex': 1753, 'psychological': 1754, 'soul': 1755, 'gripping': 1756, 'disturbing': 1757, 'jerky': 1758, 'camerawork': 1759, 'witty': 1760, 'cease': 1761, 'visually': 1762, 'remaining': 1763, 'suffering': 1764, 'smile': 1765, 'vomited': 1766, 'coppola': 1767, 'unfolds': 1768, 'lie': 1769, 'contrast': 1770, 'sublime': 1771, 'offensive': 1772, 'poetry': 1773, 'masterful': 1774, 'nature': 1775, 'disbelief': 1776, 'array': 1777, 'dangerous': 1778, 'reaction': 1779, 'shed': 1780, 'tear': 1781, 'underneath': 1782, 'wide': 1783, 'assistant': 1784, 'de': 1785, 'bonus': 1786, 'taped': 1787, 'wholesome': 1788, 'portraying': 1789, 'taking': 1790, 'forgetting': 1791, 'shelf': 1792, 'bear': 1793, 'kinda': 1794, 'question': 1795, 'lucy': 1796, 'japanese': 1797, 'america': 1798, 'composition': 1799, 'brian': 1800, 'largely': 1801, 'identify': 1802, 'connery': 1803, 'robert': 1804, 'murdered': 1805, 'humour': 1806, 'brother': 1807, 'ryan': 1808, 'hollywood': 1809, 'thus': 1810, 'undoubtedly': 1811, 'popular': 1812, 'positive': 1813, 'unique': 1814, 'european': 1815, 'student': 1816, 'circumstance': 1817, 'caught': 1818, 'junkyard': 1819, 'pile': 1820, 'round': 1821, 'continuity': 1822, 'corn': 1823, 'directorial': 1824, 'proud': 1825, 'sand': 1826, 'sake': 1827, 'public': 1828, 'string': 1829, 'fox': 1830, 'unrecognizable': 1831, 'taylor': 1832, 'surprising': 1833, 'entirely': 1834, 'producer': 1835, 'chow': 1836, 'cheesy': 1837, 'la': 1838, 'proceeding': 1839, 'remotely': 1840, 'mercy': 1841, 'overacting': 1842, 'awkwardly': 1843, 'english': 1844, 'hackneyed': 1845, 'blah': 1846, 'balanced': 1847, 'length': 1848, 'air': 1849, 'afternoon': 1850, 'creates': 1851, 'fascinating': 1852, 'humorous': 1853, 'move': 1854, 'filmed': 1855, 'view': 1856, 'dislike': 1857, 'began': 1858, 'season': 1859, 'contains': 1860, 'reality': 1861, 'century': 1862, 'implausible': 1863, 'jean': 1864, 'studio': 1865, 'indoor': 1866, 'middle': 1867, 'class': 1868, 'betty': 1869, 'aside': 1870, 'mouse': 1871, 'famous': 1872, 'ground': 1873, 'pleaser': 1874, 'turkey': 1875, 'among': 1876, 'terribly': 1877, 'award': 1878, 'deserving': 1879, 'shame': 1880, 'version': 1881, 'dumb': 1882, 'zombie': 1883, 'monster': 1884, 'notable': 1885, 'opening': 1886, 'gas': 1887, 'fair': 1888, 'teeth': 1889, 'sum': 1890, 'avoided': 1891, 'limited': 1892, 'asleep': 1893, 'deserved': 1894, 'element': 1895, 'sit': 1896, 'fifteen': 1897, 'volcano': 1898, 'abysmal': 1899, 'vomit': 1900, 'miss': 1901, 'dedication': 1902, 'versus': 1903, 'concern': 1904, 'brings': 1905, 'focus': 1906, 'underlying': 1907, 'engaging': 1908, 'errol': 1909, 'flynn': 1910, 'dull': 1911, 'surrounding': 1912, 'excellently': 1913, 'typical': 1914, 'sci': 1915, 'scare': 1916, 'revealing': 1917, 'africa': 1918, 'process': 1919, 'shakespear': 1920, 'macbeth': 1921, 'brief': 1922, 'moral': 1923, 'decay': 1924, 'evil': 1925, 'adaptation': 1926, 'costume': 1927, 'judging': 1928, 'difference': 1929, 'joe': 1930, 'watkins': 1931, 'peter': 1932, 'hollow': 1933, 'expert': 1934, 'as': 1935, 'cole': 1936, 'disgrace': 1937, 'sleep': 1938, 'achievement': 1939, 'tough': 1940, 'whenever': 1941, 'earth': 1942, 'emily': 1943, 'watson': 1944, 'prepared': 1945, 'pan': 1946, 'compelling': 1947, 'sentiment': 1948, 'trap': 1949, 'fulci': 1950, 'genre': 1951, 'personally': 1952, 'thick': 1953, 'blown': 1954, 'slightest': 1955, 'stranger': 1956, 'duet': 1957, 'astronaut': 1958, 'doctor': 1959, 'scream': 1960, 'extraordinary': 1961, 'courtroom': 1962, 'discovering': 1963, 'court': 1964, 'understated': 1965, 'based': 1966, 'phenomenal': 1967, 'opinion': 1968, 'subject': 1969, 'neil': 1970, 'surprise': 1971, 'sample': 1972, 'deliver': 1973, 'sharply': 1974, 'tongue': 1975, 'cheek': 1976, 'struggle': 1977, 'reminded': 1978, 'childhood': 1979, 'further': 1980, 'lord': 1981, 'atrocious': 1982, 'spoil': 1983, 'reference': 1984, 'act': 1985, 'pacing': 1986, 'consistent': 1987, 'f': 1988, 'us': 1989, 'hopefully': 1990, 'loneliness': 1991, 'emilio': 1992, 'estevez': 1993, 'interplay': 1994, 'suggest': 1995, 'natural': 1996, 'street': 1997, 'reader': 1998, 'closed': 1999, 'depicts': 2000, 'ponyo': 2001, 'refreshing': 2002, 'traditional': 2003, 'drawing': 2004, 'wave': 2005, 'deep': 2006, 'sunday': 2007, 'lange': 2008, 'crust': 2009, 'cashier': 2010, 'mmmm': 2011, 'cake': 2012, 'overwhelmed': 2013, 'combo': 2014, 'blow': 2015, 'familiar': 2016, 'favor': 2017, 'grossed': 2018, 'char': 2019, 'attitude': 2020, 'attack': 2021, 'grill': 2022, 'downtown': 2023, 'scallop': 2024, 'refill': 2025, 'cocktail': 2026, 'batter': 2027, 'finish': 2028, 'meh': 2029, 'seasoned': 2030, 'opportunity': 2031, 'underwhelming': 2032, 'grease': 2033, 'roast': 2034, 'sugary': 2035, 'six': 2036, 'die': 2037, 'bye': 2038, 'serf': 2039, 'roasted': 2040, 'garlic': 2041, 'marrow': 2042, 'mary': 2043, 'preparing': 2044, 'indian': 2045, 'crispy': 2046, 'tuna': 2047, 'bagel': 2048, 'dine': 2049, 'rarely': 2050, 'curry': 2051, 'decorated': 2052, 'greeted': 2053, 'joint': 2054, 'overcooked': 2055, 'charcoal': 2056, 'decided': 2057, 'dirt': 2058, 'valley': 2059, 'bowl': 2060, 'disrespected': 2061, 'stepped': 2062, 'mushroom': 2063, 'gold': 2064, 'puree': 2065, 'bug': 2066, 'shower': 2067, 'bisque': 2068, 'filet': 2069, 'pepper': 2070, 'cook': 2071, 'dealing': 2072, 'cheeseburger': 2073, 'yum': 2074, 'mayo': 2075, 'mood': 2076, 'creamy': 2077, 'similar': 2078, 'peanut': 2079, 'tap': 2080, 'coffee': 2081, 'boba': 2082, 'bachi': 2083, 'neighborhood': 2084, 'soooo': 2085, 'stir': 2086, 'summer': 2087, 'toasted': 2088, 'serve': 2089, 'omg': 2090, 'brick': 2091, 'oven': 2092, 'evening': 2093, 'lukewarm': 2094, 'eggplant': 2095, 'stuffed': 2096, 'mall': 2097, 'perfection': 2098, 'impeccable': 2099, 'pop': 2100, 'shop': 2101, 'assure': 2102, 'nicest': 2103, 'cow': 2104, 'driest': 2105, 'tot': 2106, 'acknowledged': 2107, 'margarita': 2108, 'flower': 2109, 'crab': 2110, 'leg': 2111, 'sliced': 2112, 'worker': 2113, 'filling': 2114, 'choose': 2115, 'entree': 2116, 'tapa': 2117, 'vinegrette': 2118, 'helped': 2119, 'presentation': 2120, 'satisfying': 2121, 'grilled': 2122, 'focused': 2123, 'promise': 2124, 'legit': 2125, 'staying': 2126, 'fail': 2127, 'plate': 2128, 'serving': 2129, 'fly': 2130, 'spice': 2131, 'mid': 2132, 'definately': 2133, 'flavorless': 2134, 'nacho': 2135, 'tribute': 2136, 'fell': 2137, 'employee': 2138, 'heat': 2139, 'undercooked': 2140, 'converter': 2141, 'tied': 2142, 'jiggle': 2143, 'hundred': 2144, 'seperated': 2145, 'mere': 2146, 'ft': 2147, 'excessive': 2148, 'garbled': 2149, 'fooled': 2150, 'click': 2151, 'mechanism': 2152, 'followed': 2153, 'kindle': 2154, 'misleading': 2155, 'couldnt': 2156, 'breakage': 2157, 'unacceptible': 2158, 'ideal': 2159, 'whose': 2160, 'sensitive': 2161, 'freeway': 2162, 'ac': 2163, 'highy': 2164, 'pic': 2165, 'arguing': 2166, 'bulky': 2167, 'usable': 2168, 'useful': 2169, 'stream': 2170, 'submerged': 2171, 'faceplate': 2172, 'drawback': 2173, 'pause': 2174, 'activated': 2175, 'suddenly': 2176, 'bmw': 2177, 'hearing': 2178, 'wrongly': 2179, 'everyday': 2180, 'intended': 2181, 'greater': 2182, 'bud': 2183, 'waaay': 2184, 'bluetooths': 2185, 'listener': 2186, 'integrated': 2187, 'flush': 2188, 'toilet': 2189, 'correctly': 2190, 'megapixels': 2191, 'render': 2192, 'image': 2193, 'purcashed': 2194, 'geeky': 2195, 'ooze': 2196, 'embedded': 2197, 'stylish': 2198, 'qwerty': 2199, 'simpler': 2200, 'iam': 2201, 'disapoinment': 2202, 'accompanied': 2203, 'nicely': 2204, 'damage': 2205, 'definitly': 2206, 'majority': 2207, 'peachy': 2208, 'keen': 2209, 'upstairs': 2210, 'basement': 2211, 'reccomendation': 2212, 'relative': 2213, 'sudden': 2214, 'linking': 2215, 'curve': 2216, 'sketchy': 2217, 'web': 2218, 'browsing': 2219, 'significantly': 2220, 'unlike': 2221, 'communicate': 2222, 'monkey': 2223, 'dna': 2224, 'copy': 2225, 'bougth': 2226, 'l': 2227, 'mode': 2228, 'file': 2229, 'browser': 2230, 'crawl': 2231, 'recognizes': 2232, 'buzzing': 2233, 'override': 2234, 'bluetoooth': 2235, 'thorn': 2236, 'abhor': 2237, 'disconnected': 2238, 'mail': 2239, 'backlight': 2240, 'lately': 2241, 'wit': 2242, 'pleather': 2243, 'deaf': 2244, 'prettier': 2245, 'investment': 2246, 'ticking': 2247, 'electronics': 2248, 'available': 2249, 'fm': 2250, 'transmitter': 2251, 'mega': 2252, 'pixel': 2253, 'transmit': 2254, 'contacting': 2255, 'learned': 2256, 'lesson': 2257, 'online': 2258, 'earbugs': 2259, 'roam': 2260, 'crack': 2261, 'infatuated': 2262, 'freeze': 2263, 'frequently': 2264, 'tick': 2265, 'headband': 2266, 'ericsson': 2267, 'shine': 2268, 'calendar': 2269, 'sync': 2270, 'defeat': 2271, 'penny': 2272, 'wallet': 2273, 'excrutiatingly': 2274, 'durable': 2275, 'factor': 2276, 'petroleum': 2277, 'stereo': 2278, 'absolutel': 2279, 'potentially': 2280, 'reversible': 2281, 'contstruct': 2282, 'hinge': 2283, 'installed': 2284, 'overnite': 2285, 'handset': 2286, 'attacked': 2287, 'protective': 2288, 'destroying': 2289, 'razor': 2290, 'shouldve': 2291, 'invented': 2292, 'sooner': 2293, 'engineered': 2294, 'complained': 2295, 'tracfone': 2296, 'manual': 2297, 'alarm': 2298, 'clock': 2299, 'antena': 2300, 'compared': 2301, 'usage': 2302, 'ngage': 2303, 'earbuds': 2304, 'riingtones': 2305, 'frequentyly': 2306, 'adhesive': 2307, 'concrete': 2308, 'knock': 2309, 'wood': 2310, 'transformed': 2311, 'organizational': 2312, 'capability': 2313, 'starter': 2314, 'loudspeaker': 2315, 'bumper': 2316, 'improve': 2317, 'leak': 2318, 'according': 2319, 'applifies': 2320, 'specially': 2321, 'transmission': 2322, 'drivng': 2323, 'tape': 2324, 'embarassing': 2325, 'protects': 2326, 'operates': 2327, 'soyo': 2328, 'portrait': 2329, 'mentioned': 2330, 'magical': 2331, 'comparably': 2332, 'offering': 2333, 'encourage': 2334, 'recieve': 2335, 'kit': 2336, 'excelent': 2337, 'cingulair': 2338, 'nicer': 2339, 'hoursthe': 2340, 'thereplacement': 2341, 'yell': 2342, 'iriver': 2343, 'spinn': 2344, 'fond': 2345, 'magnetic': 2346, 'strap': 2347, 'psyched': 2348, 'appointment': 2349, 'sanyo': 2350, 'survived': 2351, 'blacktop': 2352, 'ill': 2353, 'cellular': 2354, 'awsome': 2355, 'drained': 2356, 'earpad': 2357, 'displeased': 2358, 'defect': 2359, 'risk': 2360, 'restored': 2361, 'jx': 2362, 'searched': 2363, 'lit': 2364, 'portable': 2365, 'colleague': 2366, 'bed': 2367, 'wi': 2368, 'morning': 2369, 'hat': 2370, 'shipment': 2371, 'surefire': 2372, 'gx': 2373, 'remorse': 2374, 'accessoryone': 2375, 'inexcusable': 2376, 'carrier': 2377, 'tmobile': 2378, 'motorolas': 2379, 'env': 2380, 'rocketed': 2381, 'destination': 2382, 'unknown': 2383, 'condition': 2384, 'usefulness': 2385, 'overnight': 2386, 'respect': 2387, 'stuck': 2388, 'max': 2389, 'mute': 2390, 'hybrid': 2391, 'palmtop': 2392, 'excels': 2393, 'bose': 2394, 'cancelling': 2395, 'commuter': 2396, 'photo': 2397, 'ad': 2398, 'noted': 2399, 'happens': 2400, 'frog': 2401, 'pushed': 2402, 'aluminum': 2403, 'protected': 2404, 'handheld': 2405, 'sturdiness': 2406, 'waterproof': 2407, 'sliding': 2408, 'pant': 2409, 'shield': 2410, 'incrediable': 2411, 'refuse': 2412, 'activate': 2413, 'gentle': 2414, 'threw': 2415, 'counter': 2416, 'cracked': 2417, 'laughing': 2418, 'trunk': 2419, 'carried': 2420, 'hitch': 2421, 'directly': 2422, 'increase': 2423, 'shifting': 2424, 'bubbling': 2425, 'peeling': 2426, 'scratch': 2427, 'droid': 2428, 'exercise': 2429, 'earset': 2430, 'outgoing': 2431, 'package': 2432, 'patient': 2433, 'wirefly': 2434, 'inform': 2435, 'practice': 2436, 'aggravating': 2437, 'virgin': 2438, 'muddy': 2439, 'casing': 2440, 'insert': 2441, 'glued': 2442, 'slid': 2443, 'plantronincs': 2444, 'continues': 2445, 'disapointing': 2446, 'fourth': 2447, 'fix': 2448, 'accessing': 2449, 'downloading': 2450, 'performing': 2451, 'constantly': 2452, 'happening': 2453, 'wiping': 2454, 'strength': 2455, 'louder': 2456, 'navigate': 2457, 'recessed': 2458, 'avoiding': 2459, 'smoking': 2460, 'linked': 2461, 'possesed': 2462, 'research': 2463, 'division': 2464, 'infuriating': 2465, 'walkman': 2466, 'europe': 2467, 'asia': 2468, 'clipping': 2469, 'deffinitely': 2470, 'cent': 2471, 'behing': 2472, 'comfortible': 2473, 'pain': 2474, 'arrival': 2475, 'fraction': 2476, 'crappy': 2477, 'seeen': 2478, 'interface': 2479, 'decade': 2480, 'compete': 2481, 'transceiver': 2482, 'steer': 2483, 'replacementr': 2484, 'pen': 2485, 'buyit': 2486, 'steep': 2487, 'haul': 2488, 'dissapointing': 2489, 'originally': 2490, 'discarded': 2491, 'posted': 2492, 'detailed': 2493, 'grey': 2494, 'existing': 2495, 'cd': 2496, 'currently': 2497, 'shooter': 2498, 'delay': 2499, 'bitpim': 2500, 'program': 2501, 'accessory': 2502, 'manufacturer': 2503, 'muffled': 2504, 'incoming': 2505, 'severe': 2506, 'resistant': 2507, 'contacted': 2508, 'receipt': 2509, 'linksys': 2510, 'refurb': 2511, 'snug': 2512, 'heavy': 2513, 'promised': 2514, 'latch': 2515, 'visor': 2516, 'address': 2517, 'reboots': 2518, 'tungsten': 2519, 'flipphones': 2520, 'sin': 2521, 'industrial': 2522, 'tracking': 2523, 'detachable': 2524, 'periodically': 2525, 'upload': 2526, 'randomly': 2527, 'locked': 2528, 'worn': 2529, 'ringer': 2530, 'acceptable': 2531, 'upbeat': 2532, 'forgery': 2533, 'abound': 2534, 'ca': 2535, 'smallest': 2536, 'superfast': 2537, 'ergonomic': 2538, 'theory': 2539, 'distracting': 2540, 'cbr': 2541, 'preferably': 2542, 'connect': 2543, 'near': 2544, 'startac': 2545, 'regretted': 2546, 'outperform': 2547, 'china': 2548, 'sim': 2549, 'replaced': 2550, 'connecting': 2551, 'imac': 2552, 'external': 2553, 'whistle': 2554, 'slide': 2555, 'grip': 2556, 'prevents': 2557, 'slipping': 2558, 'exclaim': 2559, 'whoa': 2560, 'corded': 2561, 'functional': 2562, 'soft': 2563, 'tight': 2564, 'shape': 2565, 'copier': 2566, 'sent': 2567, 'anywhere': 2568, 'sold': 2569, 'krussel': 2570, 'tracfonewebsite': 2571, 'toactivate': 2572, 'texas': 2573, 'dit': 2574, 'blueant': 2575, 'supertooth': 2576, 'sch': 2577, 'slider': 2578, 'premium': 2579, 'capacity': 2580, 'confortable': 2581, 'ant': 2582, 'hey': 2583, 'pleasantly': 2584, 'suprised': 2585, 'dustpan': 2586, 'indoors': 2587, 'disposable': 2588, 'puff': 2589, 'ride': 2590, 'smoother': 2591, 'nano': 2592, 'dissapointed': 2593, 'reccommend': 2594, 'anti': 2595, 'glare': 2596, 'smartphone': 2597, 'atleast': 2598, 'amp': 2599, 'reoccure': 2600, 'somewhere': 2601, 'creak': 2602, 'floor': 2603, 'apartment': 2604, 'inconspicuous': 2605, 'slowly': 2606, 'upgrade': 2607, 'securly': 2608, 'possibility': 2609, 'booking': 2610, 'entertainment': 2611, 'activesync': 2612, 'optimal': 2613, 'synchronization': 2614, 'instance': 2615, 'cheapy': 2616, 'shouting': 2617, 'shiny': 2618, 'grtting': 2619, 'exceeds': 2620, 'sight': 2621, 'improper': 2622, 'hoped': 2623, 'intermittently': 2624, 'reaching': 2625, 'nightmare': 2626, 'speakerphone': 2627, 'cassette': 2628, 'planning': 2629, 'sensor': 2630, 'reliability': 2631, 'beeping': 2632, 'dieing': 2633, 'ir': 2634, 'cancellation': 2635, 'counterfeit': 2636, 'travled': 2637, 'swivel': 2638, 'dual': 2639, 'keeping': 2640, 'bottowm': 2641, 'gimmick': 2642, 'causing': 2643, 'trust': 2644, 'maintains': 2645, 'flawless': 2646, 'holder': 2647, 'land': 2648, 'owning': 2649, 'official': 2650, 'oem': 2651, 'loudest': 2652, 'competitor': 2653, 'saved': 2654, 'alot': 2655, 'unintelligible': 2656, 'restart': 2657, 'bend': 2658, 'metal': 2659, 'stress': 2660, 'leopard': 2661, 'print': 2662, 'saggy': 2663, 'floppy': 2664, 'loos': 2665, 'snap': 2666, 'fliptop': 2667, 'wobbly': 2668, 'eventually': 2669, 'fulfills': 2670, 'requirement': 2671, 'lap': 2672, 'accessable': 2673, 'mine': 2674, 'satisifed': 2675, 'spec': 2676, 'armband': 2677, 'allot': 2678, 'clearer': 2679, 'reach': 2680, 'ericson': 2681, 'motor': 2682, 'voltage': 2683, 'humming': 2684, 'equipment': 2685, 'wake': 2686, 'styling': 2687, 'restocking': 2688, 'fee': 2689, 'darn': 2690, 'sweetest': 2691, 'securely': 2692, 'hook': 2693, 'canal': 2694, 'negatively': 2695, 'provide': 2696, 'assumed': 2697, 'lense': 2698, 'text': 2699, 'messaging': 2700, 'tricky': 2701, 'lasted': 2702, 'smudged': 2703, 'infra': 2704, 'port': 2705, 'irda': 2706, 'aimless': 2707, 'distressed': 2708, 'drifting': 2709, 'attempting': 2710, 'artiness': 2711, 'existent': 2712, 'gerardo': 2713, 'emptiness': 2714, 'science': 2715, 'teacher': 2716, 'owl': 2717, 'florida': 2718, 'muppets': 2719, 'overdue': 2720, 'screenplay': 2721, 'post': 2722, 'structure': 2723, 'tightly': 2724, 'vitally': 2725, 'occurs': 2726, 'content': 2727, 'superlative': 2728, 'require': 2729, 'puzzle': 2730, 'solving': 2731, 'punch': 2732, 'insane': 2733, 'unlockable': 2734, 'aye': 2735, 'doomed': 2736, 'conception': 2737, 'minor': 2738, 'confirm': 2739, 'exaggerating': 2740, 'trailer': 2741, 'carrell': 2742, 'co': 2743, 'freeman': 2744, 'helm': 2745, 'animal': 2746, 'integration': 2747, 'translate': 2748, 'succeeds': 2749, 'meagre': 2750, 'cancan': 2751, 'boast': 2752, 'cutest': 2753, 'leading': 2754, 'heel': 2755, 'insipid': 2756, 'heche': 2757, 'sam': 2758, 'shepard': 2759, 'gung': 2760, 'ho': 2761, 'marine': 2762, 'sobering': 2763, 'riveted': 2764, 'resounding': 2765, 'hank': 2766, 'fingernail': 2767, 'chalkboard': 2768, 'unnecessary': 2769, 'train': 2770, 'roller': 2771, 'coaster': 2772, 'grate': 2773, 'nerve': 2774, 'improved': 2775, 'improvisation': 2776, 'surroundings': 2777, 'crackle': 2778, 'youthful': 2779, 'concentrate': 2780, 'meander': 2781, 'builder': 2782, 'cross': 2783, 'cliche': 2784, 'predict': 2785, 'verbatim': 2786, 'chill': 2787, 'nevsky': 2788, 'whoever': 2789, 'planned': 2790, 'dodge': 2791, 'stratus': 2792, 'restrained': 2793, 'qu': 2794, 'bec': 2795, 'promote': 2796, 'suited': 2797, 'horrendous': 2798, 'retarded': 2799, 'manna': 2800, 'evaluate': 2801, 'veteran': 2802, 'nostalgia': 2803, 'ursula': 2804, 'burton': 2805, 'shirley': 2806, 'jones': 2807, 'rendition': 2808, 'cotton': 2809, 'unfaithful': 2810, 'gere': 2811, 'shallow': 2812, 'insincere': 2813, 'politically': 2814, 'savant': 2815, 'peaking': 2816, 'columbo': 2817, 'neighbour': 2818, 'misplace': 2819, 'weaker': 2820, 'debated': 2821, 'sack': 2822, 'trumpeter': 2823, 'falsely': 2824, 'murder': 2825, 'applause': 2826, 'prelude': 2827, 'michael': 2828, 'ironside': 2829, 'rocked': 2830, 'social': 2831, 'physical': 2832, 'ben': 2833, 'affleck': 2834, 'leaving': 2835, 'knocked': 2836, 'excruciatingly': 2837, 'wedding': 2838, 'agreed': 2839, 'aired': 2840, 'dribble': 2841, 'imdb': 2842, 'mirrormask': 2843, 'inexperience': 2844, 'meant': 2845, 'ineptly': 2846, 'stereotypically': 2847, 'schoolers': 2848, 'cry': 2849, 'relate': 2850, 'sharing': 2851, 'confuses': 2852, 'underwater': 2853, 'repeated': 2854, 'thousand': 2855, 'redeemed': 2856, 'mst': 2857, 'k': 2858, 'fodder': 2859, 'anthony': 2860, 'horse': 2861, 'walk': 2862, 'relief': 2863, 'pillow': 2864, 'ticket': 2865, 'identifies': 2866, 'haggis': 2867, 'stroke': 2868, 'storytelling': 2869, 'painted': 2870, 'crash': 2871, 'provokes': 2872, 'teach': 2873, 'prejudice': 2874, 'empowerment': 2875, 'shut': 2876, 'primal': 2877, 'impulse': 2878, 'preservation': 2879, 'shattered': 2880, 'recover': 2881, 'revenge': 2882, 'boogeyman': 2883, 'zombiez': 2884, 'hellish': 2885, 'trinity': 2886, 'distinction': 2887, 'artless': 2888, 'endlessly': 2889, 'ugliest': 2890, 'merit': 2891, 'akin': 2892, 'atrocity': 2893, 'voyage': 2894, 'discovery': 2895, 'unrecommended': 2896, 'garbo': 2897, 'bat': 2898, 'netflix': 2899, 'renowned': 2900, 'france': 2901, 'marion': 2902, 'suffered': 2903, 'shined': 2904, 'senior': 2905, 'showcasing': 2906, 'punched': 2907, 'gallon': 2908, 'spew': 2909, 'foxx': 2910, 'owns': 2911, 'spacek': 2912, 'coal': 2913, 'miner': 2914, 'quaid': 2915, 'himself': 2916, 'legendary': 2917, 'biographical': 2918, 'musician': 2919, 'ironically': 2920, 'secondly': 2921, 'perfected': 2922, 'chase': 2923, 'pandering': 2924, 'sabotage': 2925, 'rumble': 2926, 'desperately': 2927, 'depending': 2928, 'logic': 2929, 'unremarkable': 2930, 'author': 2931, 'abstruse': 2932, 'reenactment': 2933, 'emotionally': 2934, 'adrift': 2935, 'stagy': 2936, 'sits': 2937, 'soldier': 2938, 'masculinity': 2939, 'pledge': 2940, 'hairsplitting': 2941, 'purity': 2942, 'admiration': 2943, 'sword': 2944, 'kill': 2945, 'momentum': 2946, 'quicker': 2947, 'resume': 2948, 'amateurish': 2949, 'fascinated': 2950, 'inconsistency': 2951, 'horrid': 2952, 'ballet': 2953, 'repertory': 2954, 'woa': 2955, 'sappiest': 2956, 'unwatchable': 2957, 'filmography': 2958, 'intention': 2959, 'undertone': 2960, 'fifty': 2961, 'existential': 2962, 'weariness': 2963, 'ought': 2964, 'regrettably': 2965, 'expression': 2966, 'celebration': 2967, 'patriotism': 2968, 'underline': 2969, 'allison': 2970, 'concert': 2971, 'ridiculousness': 2972, 'surface': 2973, 'conceptually': 2974, 'everybody': 2975, 'fantasy': 2976, 'considered': 2977, 'understood': 2978, 'identified': 2979, 'crime': 2980, 'belmondo': 2981, 'lino': 2982, 'ventura': 2983, 'detailing': 2984, 'loyalty': 2985, 'treachery': 2986, 'melville': 2987, 'manages': 2988, 'transcend': 2989, 'limitation': 2990, 'indie': 2991, 'continually': 2992, 'subverting': 2993, 'emerge': 2994, 'intense': 2995, 'crocdodile': 2996, 'believed': 2997, 'crocs': 2998, 'swamp': 2999, 'christopher': 3000, 'eccleston': 3001, 'tardis': 3002, 'continuation': 3003, 'succeeded': 3004, 'pi': 3005, 'witticism': 3006, 'bob': 3007, 'rise': 3008, 'finale': 3009, 'kieslowski': 3010, 'amaze': 3011, 'colour': 3012, 'flag': 3013, 'survivor': 3014, 'ferry': 3015, 'valentine': 3016, 'solidifying': 3017, 'happiness': 3018, 'dealt': 3019, 'roth': 3020, 'pearl': 3021, 'awarded': 3022, 'eloquently': 3023, 'francis': 3024, 'ford': 3025, 'gradually': 3026, 'develop': 3027, 'nicola': 3028, 'roeg': 3029, 'wih': 3030, 'translating': 3031, 'strives': 3032, 'greatness': 3033, 'muddled': 3034, 'disparate': 3035, 'accurately': 3036, 'defined': 3037, 'tolerate': 3038, 'political': 3039, 'incorrectness': 3040, 'artistic': 3041, 'suspension': 3042, 'slavic': 3043, 'outlandish': 3044, 'psychotic': 3045, 'lovable': 3046, 'enjoyment': 3047, 'repair': 3048, 'bitchy': 3049, 'bos': 3050, 'malta': 3051, 'barren': 3052, 'hockey': 3053, 'defensemen': 3054, 'goalie': 3055, 'diving': 3056, 'net': 3057, 'superficial': 3058, 'stagey': 3059, 'farce': 3060, 'pyromaniac': 3061, 'waylaid': 3062, 'switched': 3063, 'yawn': 3064, 'educational': 3065, 'barney': 3066, 'duper': 3067, 'babie': 3068, 'bop': 3069, 'storm': 3070, 'trooper': 3071, 'potted': 3072, 'plant': 3073, 'shameful': 3074, 'television': 3075, 'smack': 3076, 'latched': 3077, 'endearing': 3078, 'sibling': 3079, 'bond': 3080, 'unneeded': 3081, 'controversy': 3082, 'damian': 3083, 'versatile': 3084, 'cutting': 3085, 'passion': 3086, 'ireland': 3087, 'horrified': 3088, 'sympathetic': 3089, 'movement': 3090, 'elia': 3091, 'koteas': 3092, 'palance': 3093, 'angelina': 3094, 'naked': 3095, 'cameo': 3096, 'sven': 3097, 'ole': 3098, 'thorsen': 3099, 'ebay': 3100, 'poler': 3101, 'fort': 3102, 'steele': 3103, 'unrealistic': 3104, 'higher': 3105, 'sink': 3106, 'slacker': 3107, 'excerpt': 3108, 'stylized': 3109, 'exemplar': 3110, 'designer': 3111, 'powerful': 3112, 'exploration': 3113, 'politics': 3114, 'rendering': 3115, 'imperial': 3116, 'faultless': 3117, 'underappreciated': 3118, 'keith': 3119, 'bully': 3120, 'teddy': 3121, 'vivid': 3122, 'sean': 3123, 'noble': 3124, 'brigand': 3125, 'candace': 3126, 'bergen': 3127, 'feisty': 3128, 'heroine': 3129, 'wily': 3130, 'hay': 3131, 'kanaly': 3132, 'spiffy': 3133, 'radiant': 3134, 'lieutenant': 3135, 'roosevelt': 3136, 'adventure': 3137, 'ryans': 3138, 'portrayed': 3139, 'schizophrenic': 3140, 'affected': 3141, 'apt': 3142, 'imitation': 3143, 'individual': 3144, 'fashioned': 3145, 'tuneful': 3146, 'rita': 3147, 'hayworth': 3148, 'pedestal': 3149, 'exploit': 3150, 'financial': 3151, 'gain': 3152, 'linear': 3153, 'narration': 3154, 'flashback': 3155, 'articulated': 3156, 'monica': 3157, 'bellucci': 3158, 'commentary': 3159, 'timer': 3160, 'northern': 3161, 'community': 3162, 'represents': 3163, 'vivian': 3164, 'schilling': 3165, 'screamy': 3166, 'masculine': 3167, 'casted': 3168, 'throwback': 3169, 'abroad': 3170, 'interacting': 3171, 'nationality': 3172, 'slightly': 3173, 'ticker': 3174, 'hummh': 3175, 'yelp': 3176, 'funniest': 3177, 'curtain': 3178, 'ive': 3179, 'edition': 3180, 'lid': 3181, 'romantic': 3182, 'laughed': 3183, 'chosen': 3184, 'tortured': 3185, 'blatant': 3186, 'propaganda': 3187, 'hatred': 3188, 'admitted': 3189, 'school': 3190, 'admins': 3191, 'thunderbird': 3192, 'motion': 3193, 'needlessly': 3194, 'repeat': 3195, 'backed': 3196, 'flake': 3197, 'bordered': 3198, 'stupidity': 3199, 'filmmaker': 3200, 'nor': 3201, 'hide': 3202, 'monumental': 3203, 'halfway': 3204, 'embarrassed': 3205, 'howell': 3206, 'bag': 3207, 'stephen': 3208, 'mchattie': 3209, 'lance': 3210, 'hendrikson': 3211, 'raging': 3212, 'cheekbone': 3213, 'debbie': 3214, 'rochon': 3215, 'contributory': 3216, 'former': 3217, 'chimp': 3218, 'tolerable': 3219, 'oy': 3220, 'vey': 3221, 'simplifying': 3222, 'brevity': 3223, 'fulfilling': 3224, 'amusing': 3225, 'convoluted': 3226, 'convince': 3227, 'questioning': 3228, 'bela': 3229, 'lugosi': 3230, 'extraneous': 3231, 'intoning': 3232, 'decidely': 3233, 'universal': 3234, 'armand': 3235, 'assante': 3236, 'tying': 3237, 'comprehensible': 3238, 'hang': 3239, 'camp': 3240, 'expecting': 3241, 'iq': 3242, 'mollusk': 3243, 'loosely': 3244, 'lower': 3245, 'victor': 3246, 'mclaglen': 3247, 'donlevy': 3248, 'president': 3249, 'unmoving': 3250, 'gifted': 3251, 'cheerless': 3252, 'heist': 3253, 'characterisation': 3254, 'underbite': 3255, 'stoic': 3256, 'emoting': 3257, 'yun': 3258, 'tomorrow': 3259, 'abandoned': 3260, 'factory': 3261, 'executed': 3262, 'flying': 3263, 'judo': 3264, 'woo': 3265, 'squib': 3266, 'derivative': 3267, 'hopeless': 3268, 'uneasy': 3269, 'composed': 3270, 'elderly': 3271, 'babbling': 3272, 'overwrought': 3273, 'pseudo': 3274, 'satanic': 3275, 'gibberish': 3276, 'corny': 3277, 'teen': 3278, 'goth': 3279, 'blush': 3280, 'olde': 3281, 'latin': 3282, 'sloppy': 3283, 'underacting': 3284, 'competent': 3285, 'jerry': 3286, 'falwell': 3287, 'starring': 3288, 'jaclyn': 3289, 'smith': 3290, 'lifetime': 3291, 'sell': 3292, 'assaulted': 3293, 'strident': 3294, 'cord': 3295, 'blare': 3296, 'pap': 3297, 'screened': 3298, 'punish': 3299, 'unemployed': 3300, 'understatement': 3301, 'universe': 3302, 'team': 3303, 'trond': 3304, 'fausa': 3305, 'aurv': 3306, 'bothersome': 3307, 'initially': 3308, 'local': 3309, 'buffalo': 3310, 'intrigued': 3311, 'applauded': 3312, 'lilt': 3313, 'duris': 3314, 'barcelona': 3315, 'famed': 3316, 'gaudi': 3317, 'tower': 3318, 'despised': 3319, 'rough': 3320, 'draft': 3321, 'shooting': 3322, 'completed': 3323, 'personality': 3324, 'occur': 3325, 'irritating': 3326, 'indescribably': 3327, 'idiotic': 3328, 'cheesiness': 3329, 'unethical': 3330, 'nc': 3331, 'zillion': 3332, 'washing': 3333, 'twirling': 3334, 'grade': 3335, 'road': 3336, 'silly': 3337, 'unmitigated': 3338, 'blandly': 3339, 'edward': 3340, 'chodorov': 3341, 'negulesco': 3342, 'widmark': 3343, 'unintentionally': 3344, 'comical': 3345, 'marble': 3346, 'marred': 3347, 'constant': 3348, 'prompted': 3349, 'aged': 3350, 'upper': 3351, 'uptight': 3352, 'offend': 3353, 'littered': 3354, 'overt': 3355, 'slur': 3356, 'depicted': 3357, 'moron': 3358, 'boob': 3359, 'destroy': 3360, 'latifa': 3361, 'wouldnt': 3362, 'steamboat': 3363, 'willie': 3364, 'amazingly': 3365, 'plane': 3366, 'ton': 3367, 'granted': 3368, 'timeless': 3369, 'straw': 3370, 'cruel': 3371, 'bipolarity': 3372, 'thug': 3373, 'luv': 3374, 'diaper': 3375, 'accolade': 3376, 'body': 3377, 'garfield': 3378, 'ann': 3379, 'revere': 3380, 'lilli': 3381, 'plmer': 3382, 'william': 3383, 'conrad': 3384, 'lee': 3385, 'cinematographer': 3386, 'wong': 3387, 'howe': 3388, 'thomerson': 3389, 'professor': 3390, 'established': 3391, 'necklace': 3392, 'containing': 3393, 'meteorite': 3394, 'matthew': 3395, 'wrote': 3396, 'grim': 3397, 'gore': 3398, 'convention': 3399, 'cg': 3400, 'slideshow': 3401, 'explosion': 3402, 'tank': 3403, 'okay': 3404, 'critic': 3405, 'creature': 3406, 'gotta': 3407, 'slimy': 3408, 'drooling': 3409, 'breeder': 3410, 'ebola': 3411, 'virus': 3412, 'comedic': 3413, 'timing': 3414, 'debit': 3415, 'popcorn': 3416, 'border': 3417, 'lewis': 3418, 'considerable': 3419, 'incendiary': 3420, 'unrestrained': 3421, 'sole': 3422, 'bright': 3423, 'superbad': 3424, 'interim': 3425, 'originality': 3426, 'freshness': 3427, 'evidently': 3428, 'reflected': 3429, 'borrowed': 3430, 'filmiing': 3431, 'expansive': 3432, 'convey': 3433, 'broad': 3434, 'sweep': 3435, 'landscape': 3436, 'trashy': 3437, 'precisely': 3438, 'proudly': 3439, 'classical': 3440, 'wb': 3441, 'toon': 3442, 'delivered': 3443, 'underrated': 3444, 'murky': 3445, 'related': 3446, 'sitcom': 3447, 'oriented': 3448, 'teenager': 3449, 'peculiarity': 3450, 'excessively': 3451, 'phony': 3452, 'contrived': 3453, 'um': 3454, 'perabo': 3455, 'foolish': 3456, 'accent': 3457, 'hypocrisy': 3458, 'rubbish': 3459, 'researched': 3460, 'pitch': 3461, 'omit': 3462, 'instant': 3463, 'catchy': 3464, 'simmering': 3465, 'boiling': 3466, 'wart': 3467, 'poet': 3468, 'bohemian': 3469, 'wartime': 3470, 'bombardment': 3471, 'london': 3472, 'outward': 3473, 'tranquillity': 3474, 'welsh': 3475, 'coastal': 3476, 'retreat': 3477, 'borderline': 3478, 'friendship': 3479, 'lust': 3480, 'jealousy': 3481, 'rivalry': 3482, 'cowardice': 3483, 'egotism': 3484, 'heroism': 3485, 'sacrifice': 3486, 'suggests': 3487, 'inappropriate': 3488, 'smiling': 3489, 'keira': 3490, 'knightley': 3491, 'prone': 3492, 'inventive': 3493, 'pointillistic': 3494, 'behold': 3495, 'continuously': 3496, 'bertolucci': 3497, 'sidelined': 3498, 'inexplicable': 3499, 'crew': 3500, 'regardless': 3501, 'custer': 3502, 'alongside': 3503, 'olivia': 3504, 'havilland': 3505, 'dad': 3506, 'grew': 3507, 'realised': 3508, 'jim': 3509, 'connor': 3510, 'energetic': 3511, 'george': 3512, 'hosting': 3513, 'monotonous': 3514, 'shenanigan': 3515, 'spy': 3516, 'kidnapped': 3517, 'foreign': 3518, 'random': 3519, 'taxidermist': 3520, 'stewart': 3521, 'climax': 3522, 'embassy': 3523, 'brooding': 3524, 'menace': 3525, 'nevertheless': 3526, 'stable': 3527, 'scot': 3528, 'vandiver': 3529, 'nonetheless': 3530, 'campy': 3531, 'bendingly': 3532, 'medical': 3533, 'terminology': 3534, 'iffy': 3535, 'insulin': 3536, 'dependant': 3537, 'diabetic': 3538, 'complexity': 3539, 'task': 3540, 'challenge': 3541, 'facing': 3542, 'attempted': 3543, 'truth': 3544, 'reconciliation': 3545, 'magnificent': 3546, 'woven': 3547, 'splendid': 3548, 'subtitle': 3549, 'aversion': 3550, 'therapy': 3551, 'jason': 3552, 'moved': 3553, 'monolog': 3554, 'candle': 3555, 'sphere': 3556, 'helen': 3557, 'baxendale': 3558, 'credible': 3559, 'cheerfull': 3560, 'naughty': 3561, 'deadly': 3562, 'shakespears': 3563, 'lyric': 3564, 'dr': 3565, 'seuss': 3566, 'brilliantly': 3567, 'animated': 3568, 'upa': 3569, 'finest': 3570, 'academy': 3571, 'integral': 3572, 'helping': 3573, 'bailey': 3574, 'eiko': 3575, 'ishioka': 3576, 'dracula': 3577, 'format': 3578, 'baaaaaad': 3579, 'collect': 3580, 'extant': 3581, 'austen': 3582, 'consolation': 3583, 'speaking': 3584, 'unbearably': 3585, 'kitchy': 3586, 'raw': 3587, 'sublimely': 3588, 'theatrical': 3589, 'terror': 3590, 'escalating': 3591, 'monstrous': 3592, 'consequence': 3593, 'mesmerising': 3594, 'fumbling': 3595, 'hanky': 3596, 'alike': 3597, 'julian': 3598, 'fellowes': 3599, 'triumphed': 3600, 'national': 3601, 'treasure': 3602, 'phrase': 3603, 'owed': 3604, 'kris': 3605, 'kristoffersen': 3606, 'marriage': 3607, 'error': 3608, 'commented': 3609, 'garage': 3610, 'facial': 3611, 'configuration': 3612, 'inspiration': 3613, 'overcome': 3614, 'rejection': 3615, 'punishment': 3616, 'park': 3617, 'southern': 3618, 'california': 3619, 'desert': 3620, 'patent': 3621, 'accessible': 3622, 'miserable': 3623, 'angela': 3624, 'bennett': 3625, 'pretext': 3626, 'repeating': 3627, 'robotic': 3628, 'delete': 3629, 'uncalled': 3630, 'geek': 3631, 'bible': 3632, 'thumper': 3633, 'pulling': 3634, 'equivalent': 3635, 'dickens': 3636, 'carol': 3637, 'sensibility': 3638, 'success': 3639, 'depends': 3640, 'sydney': 3641, 'greenstreet': 3642, 'yardley': 3643, 'pleasing': 3644, 'rpg': 3645, 'respecting': 3646, 'rpger': 3647, 'youtube': 3648, 'lassie': 3649, 'painfully': 3650, 'dreary': 3651, 'waster': 3652, 'becomes': 3653, 'forgettable': 3654, 'shell': 3655, 'barking': 3656, 'relaxing': 3657, 'title': 3658, 'dignity': 3659, 'shocking': 3660, 'memorized': 3661, 'fishnet': 3662, 'astonishingly': 3663, 'ham': 3664, 'fisted': 3665, 'iron': 3666, 'unconditional': 3667, 'ordeal': 3668, 'progress': 3669, 'anguish': 3670, 'interview': 3671, 'vampire': 3672, 'lestat': 3673, 'stuart': 3674, 'townsend': 3675, 'cruise': 3676, 'aailiyah': 3677, 'akasha': 3678, 'entrance': 3679, 'sensitivity': 3680, 'treatment': 3681, 'detail': 3682, 'dysfunction': 3683, 'football': 3684, 'perplexing': 3685, 'skilled': 3686, 'meredith': 3687, 'worthy': 3688, 'syrupy': 3689, 'nine': 3690, 'goremeister': 3691, 'lucio': 3692, 'standout': 3693, 'unpleasant': 3694, 'technically': 3695, 'riz': 3696, 'ortolani': 3697, 'recurring': 3698, 'unaccompanied': 3699, 'vocal': 3700, 'distant': 3701, 'dustin': 3702, 'hoffman': 3703, 'involving': 3704, 'tired': 3705, 'jennifer': 3706, 'rubin': 3707, 'harris': 3708, 'nervous': 3709, 'starlet': 3710, 'coach': 3711, 'snow': 3712, 'ultra': 3713, 'exciting': 3714, 'uniqueness': 3715, 'foreigner': 3716, 'considers': 3717, 'ussr': 3718, 'indictment': 3719, 'justice': 3720, 'system': 3721, 'fundamental': 3722, 'legal': 3723, 'guilt': 3724, 'innocence': 3725, 'routine': 3726, 'constantine': 3727, 'intensity': 3728, 'motivation': 3729, 'inspiring': 3730, 'stinker': 3731, 'direct': 3732, 'release': 3733, 'trek': 3734, 'frontier': 3735, 'includes': 3736, 'shatner': 3737, 'nimoy': 3738, 'washed': 3739, 'tacky': 3740, 'spock': 3741, 'rescue': 3742, 'kirk': 3743, 'jet': 3744, 'mountain': 3745, 'humor': 3746, 'dosen': 3747, 'involves': 3748, 'vulcan': 3749, 'stealing': 3750, 'enterprise': 3751, 'uhura': 3752, 'distract': 3753, 'guard': 3754, 'jay': 3755, 'adam': 3756, 'unfortunate': 3757, 'evokes': 3758, 'grainy': 3759, 'enhanced': 3760, 'achille': 3761, 'philippa': 3762, 'sing': 3763, 'giovanni': 3764, 'describes': 3765, 'layer': 3766, 'jutland': 3767, 'instrument': 3768, 'general': 3769, 'loewenhielm': 3770, 'partaking': 3771, 'cailles': 3772, 'en': 3773, 'sarcophage': 3774, 'savor': 3775, 'impression': 3776, 'generates': 3777, 'austere': 3778, 'backdrop': 3779, 'wanting': 3780, 'notch': 3781, 'fleshed': 3782, 'grime': 3783, 'blake': 3784, 'scripted': 3785, 'deadpan': 3786, 'angus': 3787, 'scrimm': 3788, 'gently': 3789, 'menacing': 3790, 'violin': 3791, 'anatomist': 3792, 'entertained': 3793, 'phantasm': 3794, 'collective': 3795, 'concerning': 3796, 'kudos': 3797, 'juano': 3798, 'hernandez': 3799, 'supporting': 3800, 'murdering': 3801, 'trumbull': 3802, 'evinced': 3803, 'faithful': 3804, 'joyce': 3805, 'acclaimed': 3806, 'novella': 3807, 'gabriel': 3808, 'intangible': 3809, 'leap': 3810, 'viewer': 3811, 'grasp': 3812, 'wondered': 3813, 'shortlist': 3814, 'emperor': 3815, 'surely': 3816, 'coherent': 3817, 'obliged': 3818, 'creative': 3819, 'subplots': 3820, 'native': 3821, 'brainsucking': 3822, 'telly': 3823, 'savalas': 3824, 'boyle': 3825, 'sheer': 3826, 'tedium': 3827, 'melodrama': 3828, 'sinking': 3829, 'establish': 3830, 'follows': 3831, 'band': 3832, 'latter': 3833, 'mansonites': 3834, 'reporter': 3835, 'anniversary': 3836, 'indication': 3837, 'meld': 3838, 'volatile': 3839, 'temperament': 3840, 'seamless': 3841, 'union': 3842, 'creativity': 3843, 'powerhouse': 3844, 'fascination': 3845, 'celebrity': 3846, 'interpretation': 3847, 'fame': 3848, 'forgotten': 3849, 'kevin': 3850, 'spacey': 3851, 'verbal': 3852, 'tsunami': 3853, 'buddy': 3854, 'ackerman': 3855, 'scripting': 3856, 'unmatched': 3857, 'younger': 3858, 'galley': 3859, 'forwarded': 3860, 'horrendously': 3861, 'captain': 3862, 'howdy': 3863, 'semi': 3864, 'truck': 3865, 'linda': 3866, 'cardellini': 3867, 'poised': 3868, 'dee': 3869, 'snider': 3870, 'sophisticated': 3871, 'miserably': 3872, 'unoriginal': 3873, 'cinematic': 3874, 'captured': 3875, 'celluloid': 3876, 'supernatural': 3877, 'thread': 3878, 'leni': 3879, 'parker': 3880, 'anita': 3881, 'laselva': 3882, 'taelons': 3883, 'idealogical': 3884, 'explains': 3885, 'sinister': 3886, 'origin': 3887, 'x': 3888, 'insomniac': 3889, 'heartwarming': 3890, 'chasing': 3891, 'nurse': 3892, 'unpredictability': 3893, 'labute': 3894, 'brutal': 3895, 'violence': 3896, 'seperate': 3897, 'secondary': 3898, 'incomprehensible': 3899, 'primary': 3900, 'mystifying': 3901, 'warn': 3902, 'dumbest': 3903, 'hbo': 3904, 'cox': 3905, 'win': 3906, 'agree': 3907, 'jessica': 3908, 'dimensional': 3909, 'elaborately': 3910, 'aesthetically': 3911, 'sculpture': 3912, 'soap': 3913, 'opera': 3914, 'pray': 3915, 'charismatic': 3916, 'paolo': 3917, 'sorrentino': 3918, 'tony': 3919, 'unforgettable': 3920, 'titta': 3921, 'di': 3922, 'girolamo': 3923, 'vision': 3924, 'debut': 3925, 'charlie': 3926, 'kathy': 3927, 'bates': 3928, 'desperation': 3929, 'escapism': 3930, 'variation': 3931, 'field': 3932, 'condescends': 3933, 'paint': 3934, 'photograph': 3935, 'poignant': 3936, 'alert': 3937, 'decipher': 3938, 'matrix': 3939, 'mindblowing': 3940, 'rickman': 3941, 'stowe': 3942, 'hilt': 3943, 'childrens': 3944, 'subversive': 3945, 'tract': 3946, 'gloriously': 3947, 'accurate': 3948, 'raver': 3949, 'idyllic': 3950, 'groove': 3951, 'antithesis': 3952, 'traffic': 3953, 'crowe': 3954, 'picked': 3955, 'government': 3956, 'scientist': 3957, 'argued': 3958, 'humanity': 3959, 'dwight': 3960, 'schultz': 3961, 'sincere': 3962, 'critical': 3963, 'gorman': 3964, 'bechard': 3965, 'homework': 3966, 'appropriate': 3967, 'capture': 3968, 'essence': 3969, 'track': 3970, 'command': 3971, 'contributing': 3972, 'threshold': 3973, 'hayao': 3974, 'eighth': 3975, 'ghibili': 3976, 'gake': 3977, 'ue': 3978, 'cliff': 3979, 'dominated': 3980, 'disney': 3981, 'pixar': 3982, 'cgi': 3983, 'comforting': 3984, 'relying': 3985, 'drawn': 3986, 'enchanting': 3987, 'remarkable': 3988, 'pencil': 3989, 'colorful': 3990, 'fanciful': 3991, 'drift': 3992, 'surf': 3993, 'impact': 3994, 'armageddon': 3995, 'choked': 3996, 'vessel': 3997, 'taken': 3998, 'mighty': 3999, 'frost': 4000, 'fest': 4001, 'spoiled': 4002, 'brat': 4003, 'babysitting': 4004, 'march': 4005, 'judith': 4006, 'cutie': 4007, 'confidence': 4008, 'riot': 4009, 'hugo': 4010, 'weaving': 4011, 'obsessed': 4012, 'gay': 4013, 'estate': 4014, 'salesman': 4015, 'client': 4016, 'tryst': 4017, 'flaming': 4018, 'darren': 4019, 'hollander': 4020, 'flowed': 4021, 'bonding': 4022, 'hoot': 4023, 'n': 4024, 'jessice': 4025, 'clothes': 4026, 'virtue': 4027, 'regrettable': 4028, 'exceptionally': 4029, 'bank': 4030, 'holiday': 4031, 'rick': 4032, 'honeslty': 4033, 'ahead': 4034, 'warmer': 4035, 'wayyy': 4036, 'cape': 4037, 'cod': 4038, 'ravoli': 4039, 'cranberry': 4040, 'disgusted': 4041, 'shocked': 4042, 'indicate': 4043, 'cash': 4044, 'burrittos': 4045, 'interior': 4046, 'velvet': 4047, 'ohhh': 4048, 'luke': 4049, 'sever': 4050, 'accident': 4051, 'grab': 4052, 'pub': 4053, 'hiro': 4054, 'melted': 4055, 'styrofoam': 4056, 'puck': 4057, 'disgust': 4058, 'register': 4059, 'rib': 4060, 'section': 4061, 'firehouse': 4062, 'pink': 4063, 'mein': 4064, 'lined': 4065, 'banana': 4066, 'petrified': 4067, 'receives': 4068, 'handmade': 4069, 'military': 4070, 'gringo': 4071, 'tasting': 4072, 'jeff': 4073, 'milkshake': 4074, 'chocolate': 4075, 'milk': 4076, 'excalibur': 4077, 'common': 4078, 'cheated': 4079, 'experiencing': 4080, 'smelled': 4081, 'raving': 4082, 'tailored': 4083, 'palate': 4084, 'ratio': 4085, 'unsatisfying': 4086, 'omelet': 4087, 'sexy': 4088, 'outrageously': 4089, 'flirting': 4090, 'hottest': 4091, 'casino': 4092, 'forward': 4093, 'bone': 4094, 'bloddy': 4095, 'mussel': 4096, 'reduction': 4097, 'tigerlilly': 4098, 'personable': 4099, 'sooooo': 4100, 'yama': 4101, 'arriving': 4102, 'actual': 4103, 'blandest': 4104, 'cuisine': 4105, 'loving': 4106, 'venture': 4107, 'host': 4108, 'bitch': 4109, 'liking': 4110, 'reviewing': 4111, 'venturing': 4112, 'penne': 4113, 'vodka': 4114, 'meatloaf': 4115, 'lox': 4116, 'caper': 4117, 'meet': 4118, 'weekend': 4119, 'suggestion': 4120, 'bamboo': 4121, 'shoot': 4122, 'blanket': 4123, 'moz': 4124, 'subpar': 4125, 'ignore': 4126, 'fianc': 4127, 'mandalay': 4128, 'forty': 4129, 'vain': 4130, 'crostini': 4131, 'nigiri': 4132, 'flavored': 4133, 'voodoo': 4134, 'gluten': 4135, 'leftover': 4136, 'relocated': 4137, 'diverse': 4138, 'hella': 4139, 'salty': 4140, 'spinach': 4141, 'avocado': 4142, 'ingredient': 4143, 'handed': 4144, 'listed': 4145, 'lordy': 4146, 'khao': 4147, 'soi': 4148, 'accommodation': 4149, 'inspired': 4150, 'desired': 4151, 'maintaining': 4152, 'coziness': 4153, 'weekly': 4154, 'haunt': 4155, 'asking': 4156, 'verge': 4157, 'dressed': 4158, 'rudely': 4159, 'quantity': 4160, 'lemon': 4161, 'raspberry': 4162, 'imagined': 4163, 'crepe': 4164, 'missing': 4165, 'joey': 4166, 'voted': 4167, 'magazine': 4168, 'friday': 4169, 'exceeding': 4170, 'dreamed': 4171, 'serivce': 4172, 'inviting': 4173, 'mixed': 4174, 'yukon': 4175, 'beateous': 4176, 'climbing': 4177, 'tartar': 4178, 'jamaican': 4179, 'mojitos': 4180, 'rich': 4181, 'accordingly': 4182, 'rinse': 4183, 'nude': 4184, 'bussell': 4185, 'sprout': 4186, 'risotto': 4187, 'bodes': 4188, 'wrapped': 4189, 'otto': 4190, 'welcome': 4191, 'uninspired': 4192, 'drunk': 4193, 'patty': 4194, 'uploaded': 4195, 'sporting': 4196, 'eel': 4197, 'hardest': 4198, 'rolled': 4199, 'providing': 4200, 'flavourful': 4201, 'freezing': 4202, 'ayce': 4203, 'gratitude': 4204, 'privileged': 4205, 'silently': 4206, 'godfather': 4207, 'recall': 4208, 'visited': 4209, 'proclaimed': 4210, 'wildly': 4211, 'veggitarian': 4212, 'platter': 4213, 'madison': 4214, 'ironman': 4215, 'dedicated': 4216, 'jenni': 4217, 'goat': 4218, 'skimp': 4219, 'mac': 4220, 'burned': 4221, 'saganaki': 4222, 'disagree': 4223, 'fellow': 4224, 'yelpers': 4225, 'noodle': 4226, 'count': 4227, 'greedy': 4228, 'corporation': 4229, 'dime': 4230, 'outdoor': 4231, 'muffin': 4232, 'untoasted': 4233, 'bus': 4234, 'figured': 4235, 'publicly': 4236, 'loudly': 4237, 'bbq': 4238, 'lighter': 4239, 'downside': 4240, 'shawarrrrrrma': 4241, 'eyed': 4242, 'pea': 4243, 'unreal': 4244, 'vinaigrette': 4245, 'honor': 4246, 'hut': 4247, 'unbelievably': 4248, 'replenished': 4249, 'yucky': 4250, 'delicioso': 4251, 'spaghetti': 4252, 'tucson': 4253, 'chipotle': 4254, 'succulent': 4255, 'baseball': 4256, 'app': 4257, 'genuinely': 4258, 'enthusiastic': 4259, 'sadly': 4260, 'gordon': 4261, 'ramsey': 4262, 'shall': 4263, 'offered': 4264, 'handling': 4265, 'rowdy': 4266, 'despicable': 4267, 'craving': 4268, 'ache': 4269, 'elegantly': 4270, 'customize': 4271, 'outta': 4272, 'inconsiderate': 4273, 'hi': 4274, 'outshining': 4275, 'halibut': 4276, 'starving': 4277, 'def': 4278, 'ethic': 4279, 'andddd': 4280, 'located': 4281, 'crystal': 4282, 'shopping': 4283, 'aria': 4284, 'summarize': 4285, 'nay': 4286, 'transcendant': 4287, 'pneumatic': 4288, 'condiment': 4289, 'dispenser': 4290, 'ians': 4291, 'kiddos': 4292, 'bouchon': 4293, 'accountant': 4294, 'screwed': 4295, 'reminds': 4296, 'san': 4297, 'francisco': 4298, 'buldogis': 4299, 'gourmet': 4300, 'frustrated': 4301, 'petty': 4302, 'iced': 4303, 'hungry': 4304, 'sore': 4305, 'companion': 4306, 'smeared': 4307, 'tracked': 4308, 'bird': 4309, 'poop': 4310, 'furthermore': 4311, 'operation': 4312, 'connisseur': 4313, 'topic': 4314, 'strike': 4315, 'rushed': 4316, 'across': 4317, 'absolutley': 4318, 'lb': 4319, 'gristle': 4320, 'steiner': 4321, 'pear': 4322, 'almond': 4323, 'spicier': 4324, 'prefer': 4325, 'ribeye': 4326, 'mesquite': 4327, 'gooodd': 4328, 'connoisseur': 4329, 'mouthful': 4330, 'relaxed': 4331, 'venue': 4332, 'nargile': 4333, 'tater': 4334, 'southwest': 4335, 'vanilla': 4336, 'smooth': 4337, 'profiterole': 4338, 'chou': 4339, 'pastry': 4340, 'az': 4341, 'carly': 4342, 'ventilation': 4343, 'upgrading': 4344, 'letdown': 4345, 'camelback': 4346, 'cartel': 4347, 'trimmed': 4348, 'claimed': 4349, 'jewel': 4350, 'boiled': 4351, 'toro': 4352, 'tartare': 4353, 'cavier': 4354, 'thinly': 4355, 'wagyu': 4356, 'truffle': 4357, 'attached': 4358, 'decide': 4359, 'humiliated': 4360, 'name': 4361, 'calling': 4362, 'daily': 4363, 'tragedy': 4364, 'crawfish': 4365, 'multi': 4366, 'grain': 4367, 'pumpkin': 4368, 'pecan': 4369, 'fluffy': 4370, 'airline': 4371, 'noca': 4372, 'lettuce': 4373, 'cheesecurds': 4374, 'beauty': 4375, 'greasy': 4376, 'unhealthy': 4377, 'similarly': 4378, 'apology': 4379, 'tiramisu': 4380, 'cannoli': 4381, 'sun': 4382, 'frenchman': 4383, 'martini': 4384, 'gc': 4385, 'thirty': 4386, 'vacant': 4387, 'yellowtail': 4388, 'carpaccio': 4389, 'hello': 4390, 'donut': 4391, 'saving': 4392, 'disgraceful': 4393, 'suffers': 4394, 'hankering': 4395, 'theft': 4396, 'eew': 4397, 'overhaul': 4398, 'witnessed': 4399, 'regularly': 4400, 'swung': 4401, 'efficient': 4402, 'sucker': 4403, 'olive': 4404, 'perpared': 4405, 'giant': 4406, 'slice': 4407, 'dusted': 4408, 'powdered': 4409, 'sugar': 4410, 'fo': 4411, 'accomodate': 4412, 'vegan': 4413, 'veggie': 4414, 'crumby': 4415, 'pale': 4416, 'crouton': 4417, 'crema': 4418, 'caf': 4419, 'expanded': 4420, 'philadelphia': 4421, 'north': 4422, 'scottsdale': 4423, 'soooooo': 4424, 'freaking': 4425, 'reheated': 4426, 'wedge': 4427, 'absolute': 4428, 'bloody': 4429, 'yellow': 4430, 'saffron': 4431, 'seasoning': 4432, 'grandmother': 4433, 'ignored': 4434, 'hostess': 4435, 'shirt': 4436, 'drastically': 4437, 'caesar': 4438, 'madhouse': 4439, 'proven': 4440, 'macarons': 4441, 'insanely': 4442, 'informative': 4443, 'plater': 4444, 'relax': 4445, 'somethat': 4446, 'duo': 4447, 'violinist': 4448, 'requested': 4449, 'baklava': 4450, 'falafel': 4451, 'baba': 4452, 'ganoush': 4453, 'mgm': 4454, 'courteous': 4455, 'eclectic': 4456, 'onion': 4457, 'nobu': 4458, 'google': 4459, 'smashburger': 4460, 'plantain': 4461, 'spends': 4462, 'panna': 4463, 'cotta': 4464, 'slaw': 4465, 'drenched': 4466, 'piano': 4467, 'rge': 4468, 'fillet': 4469, 'relleno': 4470, 'sergeant': 4471, 'auju': 4472, 'hawaiian': 4473, 'breeze': 4474, 'mango': 4475, 'magic': 4476, 'pineapple': 4477, 'smoothy': 4478, 'mortified': 4479, 'anyways': 4480, 'dripping': 4481, 'hospitality': 4482, 'paradise': 4483, 'refrained': 4484, 'recommending': 4485, 'cibo': 4486, 'dough': 4487, 'elk': 4488, 'hooked': 4489, 'sorely': 4490, 'quaint': 4491, 'deliciously': 4492, 'dylan': 4493, 'tummy': 4494, 'gratuity': 4495, 'larger': 4496, 'apple': 4497, 'han': 4498, 'nan': 4499, 'edinburgh': 4500, 'revisiting': 4501, 'naan': 4502, 'pine': 4503, 'touched': 4504, 'airport': 4505, 'speedy': 4506, 'calligraphy': 4507, 'stood': 4508, 'extensive': 4509, 'inflate': 4510, 'smaller': 4511, 'grow': 4512, 'rapidly': 4513, 'lil': 4514, 'fuzzy': 4515, 'wonton': 4516, 'whelm': 4517, 'arepas': 4518, 'jalapeno': 4519, 'shoe': 4520, 'block': 4521, 'fancy': 4522, 'affordable': 4523, 'hunan': 4524, 'flair': 4525, 'nutshell': 4526, 'restaraunt': 4527, 'sewer': 4528, 'veal': 4529, 'satifying': 4530, 'email': 4531, 'colder': 4532, 'describing': 4533, 'tepid': 4534, 'chain': 4535, 'jury': 4536, 'lawyer': 4537, 'arrives': 4538, 'paying': 4539, 'wienerschnitzel': 4540, 'maine': 4541, 'law': 4542, 'hereas': 4543, 'held': 4544, 'pissd': 4545, 'golden': 4546, 'bruschetta': 4547, 'devine': 4548, 'lastly': 4549, 'mozzarella': 4550, 'negligent': 4551, 'unwelcome': 4552, 'packed': 4553, 'seasonal': 4554, 'fruit': 4555, 'peach': 4556, 'officially': 4557, 'container': 4558, 'opposed': 4559, 'cramming': 4560, 'takeout': 4561, 'cr': 4562, 'pe': 4563, 'delicate': 4564, 'kabuki': 4565, 'maria': 4566, 'article': 4567, 'fucking': 4568, 'caballero': 4569, 'oyster': 4570, 'qualified': 4571, 'tolerance': 4572, 'polite': 4573, 'wash': 4574, 'coconut': 4575, 'fella': 4576, 'huevos': 4577, 'rancheros': 4578, 'pricey': 4579, 'temp': 4580, 'prepare': 4581, 'bare': 4582, 'oil': 4583, 'pleasure': 4584, 'plethora': 4585, 'seal': 4586, 'approval': 4587, 'college': 4588, 'cooking': 4589, 'besides': 4590, 'costco': 4591, 'highlighted': 4592, 'grocery': 4593, 'dude': 4594, 'doughy': 4595, 'ourselves': 4596, 'albondigas': 4597, 'tomato': 4598, 'meatball': 4599, 'occasion': 4600, 'bloodiest': 4601, 'anymore': 4602, 'chai': 4603, 'latte': 4604, 'allergy': 4605, 'clue': 4606, 'contain': 4607, 'mediterranean': 4608, 'mellow': 4609, 'strawberry': 4610, 'unprofessional': 4611, 'loyal': 4612, 'patron': 4613, 'occasional': 4614, 'pat': 4615, 'bellagio': 4616, 'anticipated': 4617, 'sals': 4618, 'fav': 4619, 'unexperienced': 4620, 'steakhouse': 4621, 'concept': 4622, 'guacamole': 4623, 'pur': 4624, 'postinos': 4625, 'poisoning': 4626, 'batch': 4627, 'yay': 4628, 'eve': 4629, 'caring': 4630, 'teamwork': 4631, 'degree': 4632, 'ri': 4633, 'calamari': 4634, 'fondue': 4635, 'denny': 4636, 'downright': 4637, 'waaaaaayyyyyyyyyy': 4638, 'sangria': 4639, 'brisket': 4640, 'trippy': 4641, 'hurry': 4642, 'reservation': 4643, 'stretch': 4644, 'cashew': 4645, 'chipolte': 4646, 'ranch': 4647, 'dipping': 4648, 'sause': 4649, 'watered': 4650, 'douchey': 4651, 'garden': 4652, 'con': 4653, 'spotty': 4654, 'ensued': 4655, 'apologize': 4656, 'binge': 4657, 'drinking': 4658, 'carbs': 4659, 'profound': 4660, 'deuchebaggery': 4661, 'solidify': 4662, 'ala': 4663, 'cart': 4664, 'blame': 4665, 'rave': 4666, 'del': 4667, 'hamburger': 4668, 'ya': 4669, 'fireball': 4670, 'disapppointment': 4671, 'correction': 4672, 'heimer': 4673, 'brownish': 4674, 'bigger': 4675, 'unwrapped': 4676, 'mile': 4677, 'brushfire': 4678, 'mirage': 4679, 'refried': 4680, 'dried': 4681, 'crusty': 4682, 'caterpillar': 4683, 'appetite': 4684, 'instantly': 4685, 'ninja': 4686, 'poured': 4687, 'wound': 4688}\n"
     ]
    }
   ],
   "source": [
    "print(tokenizer.word_index)"
   ]
  },
  {
   "cell_type": "code",
   "execution_count": 22,
   "metadata": {},
   "outputs": [
    {
     "name": "stdout",
     "output_type": "stream",
     "text": [
      "Vocabulary size=  4689 \n",
      "\n",
      "Length of padded_sequence=  74 \n",
      "\n",
      "input text (example): \n",
      " i went on motorola s website and followed all direction but could not get it to pair again \n",
      "\n",
      "encoded_docs (example): \n",
      " [4, 226, 21, 351, 17, 739, 2, 2153, 32, 654, 25, 98, 14, 75, 5, 7, 871, 109] \n",
      "\n",
      "padded_sequence (example): \n",
      " [   0    0    0    0    0    0    0    0    0    0    0    0    0    0\n",
      "    0    0    0    0    0    0    0    0    0    0    0    0    0    0\n",
      "    0    0    0    0    0    0    0    0    0    0    0    0    0    0\n",
      "    0    0    0    0    0    0    0    0    0    0    0    0    0    0\n",
      "    4  226   21  351   17  739    2 2153   32  654   25   98   14   75\n",
      "    5    7  871  109]\n"
     ]
    }
   ],
   "source": [
    "index_example=20\n",
    "\n",
    "print('Vocabulary size= ',vocab_size,'\\n')\n",
    "print('Length of padded_sequence= ',len(padded_sequence[index_example]),'\\n')\n",
    "print('input text (example): \\n',review[index_example],'\\n')\n",
    "print('encoded_docs (example): \\n',encoded_docs[index_example],'\\n')\n",
    "print('padded_sequence (example): \\n',padded_sequence[index_example])"
   ]
  },
  {
   "cell_type": "markdown",
   "metadata": {},
   "source": [
    "3. Splitting the data into training and test data sets:"
   ]
  },
  {
   "cell_type": "markdown",
   "metadata": {},
   "source": [
    "Due to the very limited number of data observations (reviews) , the test data set (hold_out set) is only 10% of the cleaned data set., the validation portion of data will be determined later in the Model training section."
   ]
  },
  {
   "cell_type": "code",
   "execution_count": 23,
   "metadata": {},
   "outputs": [],
   "source": [
    "X=np.array(padded_sequence.copy())\n",
    "y=np.array(df_clean['Score'].copy())\n",
    "\n",
    "X_train, X_test, y_train, y_test = train_test_split(X, y, test_size=0.1, random_state=2)"
   ]
  },
  {
   "cell_type": "markdown",
   "metadata": {},
   "source": [
    "##### 6.  Provide a copy of the prepared dataset."
   ]
  },
  {
   "cell_type": "code",
   "execution_count": 24,
   "metadata": {},
   "outputs": [],
   "source": [
    "# Saving a copy of the prepared full data set.\n",
    "D213_T2_cleaned_dataset=df_clean.copy()\n",
    "D213_T2_cleaned_dataset.to_csv('D213_T2_cleaned_dataset.csv', index = True)\n",
    "\n",
    "# Saving a copy of the prepared Training data set.\n",
    "D213_T2_cleaned_Training_dataset=pd.DataFrame(X_train,y_train)\n",
    "D213_T2_cleaned_Training_dataset.to_csv('D213_T2_prepared_Training_dataset.csv', index = True)\n",
    "\n",
    "# Saving a copy of the prepared Test data set.\n",
    "D213_T2_cleaned_Test_dataset=pd.DataFrame(X_test,y_test)\n",
    "D213_T2_cleaned_Test_dataset.to_csv('D213_T2_prepared_Test_dataset.csv', index = True)"
   ]
  },
  {
   "cell_type": "markdown",
   "metadata": {},
   "source": [
    "-------------------------------------------------------------------------------------------------------------------------------"
   ]
  },
  {
   "cell_type": "markdown",
   "metadata": {},
   "source": [
    "#### Part III:  Network Architecture\n",
    "\n",
    "##### C.  Describe the type of network used by doing the following:\n",
    "\n",
    "##### 1.  Provide the output of the model summary of the function from TensorFlow."
   ]
  },
  {
   "cell_type": "code",
   "execution_count": 25,
   "metadata": {},
   "outputs": [
    {
     "name": "stdout",
     "output_type": "stream",
     "text": [
      "Model: \"sequential\"\n",
      "_________________________________________________________________\n",
      "Layer (type)                 Output Shape              Param #   \n",
      "=================================================================\n",
      "embedding (Embedding)        (None, 74, 32)            150048    \n",
      "_________________________________________________________________\n",
      "spatial_dropout1d (SpatialDr (None, 74, 32)            0         \n",
      "_________________________________________________________________\n",
      "lstm (LSTM)                  (None, 50)                16600     \n",
      "_________________________________________________________________\n",
      "dropout (Dropout)            (None, 50)                0         \n",
      "_________________________________________________________________\n",
      "dense (Dense)                (None, 1)                 51        \n",
      "=================================================================\n",
      "Total params: 166,699\n",
      "Trainable params: 166,699\n",
      "Non-trainable params: 0\n",
      "_________________________________________________________________\n",
      "None\n"
     ]
    }
   ],
   "source": [
    "# Edited after (Karikari,2020)\n",
    "\n",
    "# Build the model\n",
    "model = Sequential()\n",
    "embedding_vector_length = 32  \n",
    "\n",
    "model.add(Embedding(vocab_size, embedding_vector_length,input_length=len(padded_sequence[index_example])) )\n",
    "model.add(SpatialDropout1D(0.25))\n",
    "model.add(LSTM(50, dropout=0.5, recurrent_dropout=0.5)) \n",
    "model.add(Dropout(0.2))\n",
    "model.add(Dense(1, activation='sigmoid'))\n",
    "model.compile(loss='binary_crossentropy',optimizer='adam', metrics=['accuracy'])\n",
    "\n",
    "print(model.summary())"
   ]
  },
  {
   "cell_type": "markdown",
   "metadata": {},
   "source": [
    "##### 2.  Discuss the number of layers, the type of layers, and total number of parameters."
   ]
  },
  {
   "cell_type": "markdown",
   "metadata": {},
   "source": [
    "The total number of layers is 5 layers:\n",
    "\n",
    "1. Embedding:\n",
    "This layer works as an input layer before the actual RNN, Word embeddings give us a way to use an efficient, dense representation in which similar words have a similar encoding. Importantly. An embedding is a dense vector of floating-point values (the length of the vector is 32)\n",
    "\n",
    "2. spatial_dropout1d:\n",
    "As a dropout layer, penalizing the activation function to reduce the overfitting (regularization), performs the same function as Dropout, however, it drops entire 1D feature maps instead of individual elements.\n",
    "\n",
    "3. LSTM:\n",
    "For the LSTM layer, we add 50 units that represent the dimensionality of outer space. LSTM also includes a special unit known as a memory cell to withhold the past information for a longer time for making an effective prediction.\n",
    "\n",
    "4. Dropout:\n",
    "Dropout layer for prevention against overfitting, we specify the percentage of layers that should be dropped.\n",
    "\n",
    "5. Dense:\n",
    "Finally the output dense layer.\n",
    "\n",
    "At last, we compile the model with the help of adam optimizer. The error is computed using 'prediction accuracy'.\n",
    "\n",
    "Total params are 166,699 which depends on the number of neurons, number of layers, dimensions of the input, and the output.\n"
   ]
  },
  {
   "cell_type": "markdown",
   "metadata": {},
   "source": [
    "##### 3.  Justify the choice of hyperparameters, including the following elements:\n",
    "\n",
    "•   activation functions\n",
    "\n",
    "•   number of nodes per layer\n",
    "\n",
    "•   loss function\n",
    "\n",
    "•   optimizer\n",
    "\n",
    "•   stopping criteria\n",
    "\n",
    "•   evaluation metric"
   ]
  },
  {
   "cell_type": "markdown",
   "metadata": {},
   "source": [
    "##### •   activation functions"
   ]
  },
  {
   "cell_type": "markdown",
   "metadata": {},
   "source": [
    "'sigmoid':\n",
    "The main reason why we use the Sigmoid or Logistic activation function is that it exists between (0 to 1). Therefore, it is especially used for models where we have to predict the probability as an output. Since the probability of anything exists only between the range of 0 and 1, sigmoid is the right choice. (SHARMA,2017)\n",
    "\n",
    "SAGAR SHARMA (2017) Activation Functions in Neural Networks.\n",
    "https://towardsdatascience.com/activation-functions-neural-networks-1cbd9f8d91d6\n"
   ]
  },
  {
   "cell_type": "markdown",
   "metadata": {},
   "source": [
    "##### •   number of nodes per layer"
   ]
  },
  {
   "cell_type": "markdown",
   "metadata": {},
   "source": [
    "different numbers of nodes have been used in building initial and several test models, the number of choices in the final model has been suggested through experimentation and watching/reviewing different implementations through the web."
   ]
  },
  {
   "cell_type": "markdown",
   "metadata": {},
   "source": [
    "##### •   loss function"
   ]
  },
  {
   "cell_type": "markdown",
   "metadata": {},
   "source": [
    "'binary_crossentropy':\n",
    "\n",
    "Binary Crossentropy is the loss function used when there is a classification problem between 2 categories only.\n",
    "\n",
    "Harshit Dawar. (2020) Binary Crossentropy in its core!\n",
    "https://medium.com/analytics-vidhya/binary-crossentropy-in-its-core-35bcecf27a8a"
   ]
  },
  {
   "cell_type": "markdown",
   "metadata": {},
   "source": [
    "##### •   optimizer"
   ]
  },
  {
   "cell_type": "markdown",
   "metadata": {},
   "source": [
    "'adam':\n",
    "Adam Optimizer is the most popular and widely used optimizer for neural network training, uses adam algorithm in which the stochastic gradient descent method is leveraged for performing the optimization process.\n",
    "It is efficient to use and consumes very little memory.\n",
    "\n",
    "Palash Sharma. (2020) Keras Optimizers Explained with Examples for Beginners.\n",
    "https://machinelearningknowledge.ai/keras-optimizers-explained-with-examples-for-beginners/"
   ]
  },
  {
   "cell_type": "markdown",
   "metadata": {},
   "source": [
    "##### •   stopping criteria"
   ]
  },
  {
   "cell_type": "markdown",
   "metadata": {},
   "source": [
    "'val_accuracy':\n",
    "The model will set apart a fraction of data to be used as validation data and will not train on it, and will evaluate the loss and any model metrics on this data at the end of each epoch.\n",
    "the validation data accuracy is a reliable metric and can highlight overfitting if compared to training data accuracy, which makes it a reliable stopping criterion to prevent model overfitting.\n",
    "\n"
   ]
  },
  {
   "cell_type": "markdown",
   "metadata": {},
   "source": [
    "##### •   evaluation metric"
   ]
  },
  {
   "cell_type": "markdown",
   "metadata": {},
   "source": [
    "'accuracy':\n",
    "Model accuracy score represents the model’s ability to correctly predict both the positives and negatives out of all the predictions. Mathematically, it represents the ratio of the sum of true positive and true negatives out of all the predictions. (Kumar,2020)\n"
   ]
  },
  {
   "cell_type": "markdown",
   "metadata": {},
   "source": [
    "-------------------------------------------------------------------------------------------------------------------------------"
   ]
  },
  {
   "cell_type": "markdown",
   "metadata": {},
   "source": [
    "#### Part IV:  Model Evaluation\n",
    "\n",
    "##### D.  Evaluate the model training process and its relevant outcomes by doing the following:\n",
    "\n",
    "##### 1.  Discuss the impact of using stopping criteria instead of defining the number of epochs, including a screenshot showing the final training epoch."
   ]
  },
  {
   "cell_type": "markdown",
   "metadata": {},
   "source": [
    "In order to evaluate the impact of using stopping criteria instead of defining the number of epochs, I chose to fit the model twice, with and without using the stopping criteria, and running the chosen metrics."
   ]
  },
  {
   "cell_type": "markdown",
   "metadata": {},
   "source": [
    "1. Without using the stopping criteria"
   ]
  },
  {
   "cell_type": "code",
   "execution_count": 26,
   "metadata": {},
   "outputs": [
    {
     "name": "stdout",
     "output_type": "stream",
     "text": [
      "Epoch 1/20\n",
      "68/68 [==============================] - 24s 211ms/step - loss: 0.6923 - accuracy: 0.5228 - val_loss: 0.6896 - val_accuracy: 0.4972\n",
      "Epoch 2/20\n",
      "68/68 [==============================] - 13s 194ms/step - loss: 0.6600 - accuracy: 0.6556 - val_loss: 0.6104 - val_accuracy: 0.7188\n",
      "Epoch 3/20\n",
      "68/68 [==============================] - 13s 192ms/step - loss: 0.4951 - accuracy: 0.7866 - val_loss: 0.4884 - val_accuracy: 0.7821ura\n",
      "Epoch 4/20\n",
      "68/68 [==============================] - 15s 221ms/step - loss: 0.3600 - accuracy: 0.8630 - val_loss: 0.4600 - val_accuracy: 0.7784\n",
      "Epoch 5/20\n",
      "68/68 [==============================] - 13s 194ms/step - loss: 0.2712 - accuracy: 0.9049 - val_loss: 0.4564 - val_accuracy: 0.7896\n",
      "Epoch 6/20\n",
      "68/68 [==============================] - 13s 190ms/step - loss: 0.2103 - accuracy: 0.9324 - val_loss: 0.4677 - val_accuracy: 0.8045- accuracy: 0.\n",
      "Epoch 7/20\n",
      "68/68 [==============================] - 13s 197ms/step - loss: 0.1660 - accuracy: 0.9445 - val_loss: 0.4621 - val_accuracy: 0.8156\n",
      "Epoch 8/20\n",
      "68/68 [==============================] - 14s 210ms/step - loss: 0.1536 - accuracy: 0.9511 - val_loss: 0.5386 - val_accuracy: 0.7709\n",
      "Epoch 9/20\n",
      "68/68 [==============================] - 14s 213ms/step - loss: 0.1567 - accuracy: 0.9525 - val_loss: 0.4721 - val_accuracy: 0.8250\n",
      "Epoch 10/20\n",
      "68/68 [==============================] - 14s 206ms/step - loss: 0.0992 - accuracy: 0.9683 - val_loss: 0.5008 - val_accuracy: 0.8212\n",
      "Epoch 11/20\n",
      "68/68 [==============================] - 15s 219ms/step - loss: 0.0941 - accuracy: 0.9674 - val_loss: 0.5159 - val_accuracy: 0.8268\n",
      "Epoch 12/20\n",
      "68/68 [==============================] - 14s 204ms/step - loss: 0.0750 - accuracy: 0.9730 - val_loss: 0.5595 - val_accuracy: 0.8175\n",
      "Epoch 13/20\n",
      "68/68 [==============================] - 13s 198ms/step - loss: 0.0609 - accuracy: 0.9814 - val_loss: 0.5836 - val_accuracy: 0.8156\n",
      "Epoch 14/20\n",
      "68/68 [==============================] - 14s 200ms/step - loss: 0.0599 - accuracy: 0.9804 - val_loss: 0.6967 - val_accuracy: 0.7970\n",
      "Epoch 15/20\n",
      "68/68 [==============================] - 14s 208ms/step - loss: 0.0561 - accuracy: 0.9790 - val_loss: 0.6154 - val_accuracy: 0.8212\n",
      "Epoch 16/20\n",
      "68/68 [==============================] - 14s 207ms/step - loss: 0.0602 - accuracy: 0.9832 - val_loss: 0.6849 - val_accuracy: 0.8212\n",
      "Epoch 17/20\n",
      "68/68 [==============================] - 14s 200ms/step - loss: 0.0409 - accuracy: 0.9888 - val_loss: 0.6654 - val_accuracy: 0.8175\n",
      "Epoch 18/20\n",
      "68/68 [==============================] - 14s 202ms/step - loss: 0.0339 - accuracy: 0.9879 - val_loss: 0.7022 - val_accuracy: 0.8194\n",
      "Epoch 19/20\n",
      "68/68 [==============================] - 14s 204ms/step - loss: 0.0403 - accuracy: 0.9874 - val_loss: 0.7799 - val_accuracy: 0.8194\n",
      "Epoch 20/20\n",
      "68/68 [==============================] - 14s 202ms/step - loss: 0.0358 - accuracy: 0.9884 - val_loss: 0.8116 - val_accuracy: 0.8045\n"
     ]
    }
   ],
   "source": [
    "history = model.fit(X_train,y_train,validation_split=0.2, epochs=20, batch_size=32)"
   ]
  },
  {
   "cell_type": "markdown",
   "metadata": {},
   "source": [
    "* Screenshot showing the final training epoch. taken from the current notebook.\n",
    "\n",
    "[![model-without.png](https://i.postimg.cc/7hZwR0s7/model-without.png)](https://postimg.cc/1n2knnZ5)"
   ]
  },
  {
   "cell_type": "code",
   "execution_count": 27,
   "metadata": {},
   "outputs": [
    {
     "name": "stdout",
     "output_type": "stream",
     "text": [
      "Without using the stopping criteria\n"
     ]
    },
    {
     "data": {
      "image/png": "[encoded data removed]",
      "text/plain": [
       "<Figure size 576x432 with 1 Axes>"
      ]
     },
     "metadata": {
      "needs_background": "light"
     },
     "output_type": "display_data"
    },
    {
     "data": {
      "image/png": "[encoded data removed]",
      "text/plain": [
       "<Figure size 576x432 with 1 Axes>"
      ]
     },
     "metadata": {
      "needs_background": "light"
     },
     "output_type": "display_data"
    }
   ],
   "source": [
    "loss = history.history['loss']\n",
    "val_loss = history.history['val_loss']\n",
    "\n",
    "print('Without using the stopping criteria')\n",
    "\n",
    "plt.subplots(figsize = (8,6))\n",
    "plt.plot(loss,label='Training Loss')\n",
    "plt.plot(val_loss,'--',label='Validation Loss')\n",
    "plt.title(\"Line graph of the loss\" );plt.xlabel('Epoch');plt.ylabel('Loss')\n",
    "plt.legend(['Training Loss','Validation Loss'],loc='lower left',fontsize=12)\n",
    "plt.grid()\n",
    "plt.show()\n",
    "\n",
    "#-------------------------------------------------------------------\n",
    "\n",
    "accuracy = history.history['accuracy']\n",
    "val_accuracy = history.history['val_accuracy']\n",
    "\n",
    "plt.subplots(figsize = (8,6))\n",
    "plt.plot(accuracy,label='Training Accuracy')\n",
    "plt.plot(val_accuracy,'--',label='Validation Accuracy')\n",
    "plt.title(\"Line graph of the Accuracy\" );plt.xlabel('Epoch');plt.ylabel('Accuracy')\n",
    "plt.legend(['Training Accuracy','Validation Accuracy'],loc='lower right',fontsize=12)\n",
    "plt.grid()\n",
    "plt.show()"
   ]
  },
  {
   "cell_type": "code",
   "execution_count": 28,
   "metadata": {},
   "outputs": [],
   "source": [
    "y_pred=(model.predict(X_test) > 0.5).astype(\"int32\")"
   ]
  },
  {
   "cell_type": "code",
   "execution_count": 29,
   "metadata": {},
   "outputs": [
    {
     "data": {
      "text/plain": [
       "array([[121,  31],\n",
       "       [ 28, 119]], dtype=int64)"
      ]
     },
     "execution_count": 29,
     "metadata": {},
     "output_type": "execute_result"
    }
   ],
   "source": [
    "confusion_matrix(y_test,y_pred)"
   ]
  },
  {
   "cell_type": "code",
   "execution_count": 30,
   "metadata": {},
   "outputs": [
    {
     "name": "stdout",
     "output_type": "stream",
     "text": [
      "              precision    recall  f1-score   support\n",
      "\n",
      "           0       0.81      0.80      0.80       152\n",
      "           1       0.79      0.81      0.80       147\n",
      "\n",
      "    accuracy                           0.80       299\n",
      "   macro avg       0.80      0.80      0.80       299\n",
      "weighted avg       0.80      0.80      0.80       299\n",
      "\n"
     ]
    }
   ],
   "source": [
    "report=classification_report(y_test,y_pred)\n",
    "print(report)"
   ]
  },
  {
   "cell_type": "markdown",
   "metadata": {},
   "source": [
    "1. Using the stopping criteria"
   ]
  },
  {
   "cell_type": "code",
   "execution_count": 31,
   "metadata": {},
   "outputs": [
    {
     "name": "stdout",
     "output_type": "stream",
     "text": [
      "Epoch 1/20\n",
      "68/68 [==============================] - 13s 190ms/step - loss: 0.0329 - accuracy: 0.9893 - val_loss: 0.7556 - val_accuracy: 0.8063\n",
      "Epoch 2/20\n",
      "68/68 [==============================] - 14s 211ms/step - loss: 0.0317 - accuracy: 0.9902 - val_loss: 0.8676 - val_accuracy: 0.8138\n",
      "Epoch 3/20\n",
      "68/68 [==============================] - 13s 195ms/step - loss: 0.0355 - accuracy: 0.9893 - val_loss: 0.7911 - val_accuracy: 0.8101\n",
      "Epoch 4/20\n",
      "68/68 [==============================] - 13s 195ms/step - loss: 0.0357 - accuracy: 0.9902 - val_loss: 0.7987 - val_accuracy: 0.8119\n",
      "Epoch 5/20\n",
      "68/68 [==============================] - 14s 212ms/step - loss: 0.0246 - accuracy: 0.9930 - val_loss: 0.9558 - val_accuracy: 0.8045\n"
     ]
    }
   ],
   "source": [
    "# Edited after (Brownlee,2018)\n",
    "\n",
    "es = EarlyStopping(monitor='val_accuracy', mode='max', patience=3)\n",
    "history = model.fit(X_train,y_train,validation_split=0.2, epochs=20, batch_size=32,callbacks=[es])"
   ]
  },
  {
   "cell_type": "markdown",
   "metadata": {},
   "source": [
    "* Screenshot showing the final training epoch. taken from the current notebook.\n",
    "\n",
    "[![model-with.png](https://i.postimg.cc/CMs4Hkp7/model-with.png)](https://postimg.cc/233vCq6L)"
   ]
  },
  {
   "cell_type": "code",
   "execution_count": 32,
   "metadata": {},
   "outputs": [],
   "source": [
    "y_pred=(model.predict(X_test) > 0.5).astype(\"int32\")"
   ]
  },
  {
   "cell_type": "code",
   "execution_count": 33,
   "metadata": {},
   "outputs": [
    {
     "data": {
      "text/plain": [
       "array([[116,  36],\n",
       "       [ 23, 124]], dtype=int64)"
      ]
     },
     "execution_count": 33,
     "metadata": {},
     "output_type": "execute_result"
    }
   ],
   "source": [
    "confusion_matrix(y_test,y_pred)"
   ]
  },
  {
   "cell_type": "code",
   "execution_count": 34,
   "metadata": {},
   "outputs": [
    {
     "name": "stdout",
     "output_type": "stream",
     "text": [
      "              precision    recall  f1-score   support\n",
      "\n",
      "           0       0.83      0.76      0.80       152\n",
      "           1       0.78      0.84      0.81       147\n",
      "\n",
      "    accuracy                           0.80       299\n",
      "   macro avg       0.80      0.80      0.80       299\n",
      "weighted avg       0.81      0.80      0.80       299\n",
      "\n"
     ]
    }
   ],
   "source": [
    "report=classification_report(y_test,y_pred)\n",
    "print(report)"
   ]
  },
  {
   "cell_type": "markdown",
   "metadata": {},
   "source": [
    "Using stopping criteria instead of defining the number of epochs, terminated useless time consumbtion, but without significant enhancement of accuracy or decreasing overfitting, probably because of the very limited training data, and the very limited validation data as well."
   ]
  },
  {
   "cell_type": "markdown",
   "metadata": {},
   "source": [
    "##### 2.  Provide visualizations of the model’s training process, including a line graph of the loss and chosen evaluation metric."
   ]
  },
  {
   "cell_type": "code",
   "execution_count": 35,
   "metadata": {},
   "outputs": [
    {
     "name": "stdout",
     "output_type": "stream",
     "text": [
      "Using the stopping criteria\n"
     ]
    },
    {
     "data": {
      "image/png": "[encoded data removed]",
      "text/plain": [
       "<Figure size 576x432 with 1 Axes>"
      ]
     },
     "metadata": {
      "needs_background": "light"
     },
     "output_type": "display_data"
    },
    {
     "data": {
      "image/png": "[encoded data removed]",
      "text/plain": [
       "<Figure size 576x432 with 1 Axes>"
      ]
     },
     "metadata": {
      "needs_background": "light"
     },
     "output_type": "display_data"
    }
   ],
   "source": [
    "loss = history.history['loss']\n",
    "val_loss = history.history['val_loss']\n",
    "\n",
    "print('Using the stopping criteria')\n",
    "\n",
    "plt.subplots(figsize = (8,6))\n",
    "plt.plot(loss,label='Training Loss')\n",
    "plt.plot(val_loss,'--',label='Validation Loss')\n",
    "plt.title(\"Line graph of the loss\" );plt.xlabel('Epoch');plt.ylabel('Loss')\n",
    "plt.legend(['Training Loss','Validation Loss'],loc='lower left',fontsize=12)\n",
    "plt.grid()\n",
    "plt.show()\n",
    "\n",
    "#-------------------------------------------------------------------\n",
    "\n",
    "accuracy = history.history['accuracy']\n",
    "val_accuracy = history.history['val_accuracy']\n",
    "\n",
    "plt.subplots(figsize = (8,6))\n",
    "plt.plot(accuracy,label='Training Accuracy')\n",
    "plt.plot(val_accuracy,'--',label='Validation Accuracy')\n",
    "plt.title(\"Line graph of the Accuracy\" );plt.xlabel('Epoch');plt.ylabel('Accuracy')\n",
    "plt.legend(['Training Accuracy','Validation Accuracy'],loc='lower right',fontsize=12)\n",
    "plt.grid()\n",
    "plt.show()"
   ]
  },
  {
   "cell_type": "markdown",
   "metadata": {},
   "source": [
    "##### 3.  Assess the fitness of the model and any measures taken to address overfitting."
   ]
  },
  {
   "cell_type": "markdown",
   "metadata": {},
   "source": [
    "The obvious presence of overfitting, confirmed by comparing the training loss function vs. the validation loss, also the accuracy score of the training data vs. the validation data.\n",
    "\n",
    "Dropout layers have been used for prevention against overfitting by penalizing the activation function to reduce the overfitting (regularization).\n",
    "\n",
    "Also using stopping criteria instead of defining the number of epochs,  but without considerable enhancement of overfitting, probably because of the very limited training data, and the very limited validation data as well.\n"
   ]
  },
  {
   "cell_type": "markdown",
   "metadata": {},
   "source": [
    "##### 4.  Discuss the predictive accuracy of the trained network."
   ]
  },
  {
   "cell_type": "code",
   "execution_count": 36,
   "metadata": {},
   "outputs": [],
   "source": [
    "y_pred=(model.predict(X_test) > 0.5).astype(\"int32\")"
   ]
  },
  {
   "cell_type": "markdown",
   "metadata": {},
   "source": [
    "Model accuracy score represents the model’s ability to correctly predict both the positives and negatives out of all the predictions. Mathematically, it represents the ratio of sum of true positive and true negatives out of all the predictions. (Kumar,2020)\n",
    "Accuracy Score = (TP + TN)/ (TP + FN + TN + FP)\n",
    "\n",
    "The overall accuracy of the model is relatively high, which represents the model’s ability to correctly predict both the positives and negatives out of all the predictions. \n",
    "\n"
   ]
  },
  {
   "cell_type": "code",
   "execution_count": 37,
   "metadata": {},
   "outputs": [
    {
     "data": {
      "text/plain": [
       "0.802675585284281"
      ]
     },
     "execution_count": 37,
     "metadata": {},
     "output_type": "execute_result"
    }
   ],
   "source": [
    "accuracy_score(y_test,y_pred)"
   ]
  },
  {
   "cell_type": "code",
   "execution_count": 38,
   "metadata": {},
   "outputs": [
    {
     "data": {
      "text/plain": [
       "array([[116,  36],\n",
       "       [ 23, 124]], dtype=int64)"
      ]
     },
     "execution_count": 38,
     "metadata": {},
     "output_type": "execute_result"
    }
   ],
   "source": [
    "confusion_matrix(y_test,y_pred)"
   ]
  },
  {
   "cell_type": "code",
   "execution_count": 39,
   "metadata": {},
   "outputs": [
    {
     "name": "stdout",
     "output_type": "stream",
     "text": [
      "              precision    recall  f1-score   support\n",
      "\n",
      "           0       0.83      0.76      0.80       152\n",
      "           1       0.78      0.84      0.81       147\n",
      "\n",
      "    accuracy                           0.80       299\n",
      "   macro avg       0.80      0.80      0.80       299\n",
      "weighted avg       0.81      0.80      0.80       299\n",
      "\n"
     ]
    }
   ],
   "source": [
    "report=classification_report(y_test,y_pred)\n",
    "print(report)"
   ]
  },
  {
   "cell_type": "markdown",
   "metadata": {},
   "source": [
    "A dummy test has been applied in order to check the general ability of the model to evaluate unseen texts, the model succeeded as shown below :"
   ]
  },
  {
   "cell_type": "code",
   "execution_count": 40,
   "metadata": {},
   "outputs": [
    {
     "data": {
      "text/plain": [
       "1"
      ]
     },
     "execution_count": 40,
     "metadata": {},
     "output_type": "execute_result"
    }
   ],
   "source": [
    "# Edited after (Karikari,2020)\n",
    "test_word = \"This project was a wonderful experience\"\n",
    "tw = tokenizer.texts_to_sequences([test_word])\n",
    "tw = pad_sequences(tw,maxlen=len(padded_sequence[index_example]))\n",
    "prediction = int(model.predict(tw).round().item())\n",
    "prediction"
   ]
  },
  {
   "cell_type": "code",
   "execution_count": 41,
   "metadata": {},
   "outputs": [
    {
     "data": {
      "text/plain": [
       "0"
      ]
     },
     "execution_count": 41,
     "metadata": {},
     "output_type": "execute_result"
    }
   ],
   "source": [
    "test_word = \"I really hate this idea \"\n",
    "tw = tokenizer.texts_to_sequences([test_word])\n",
    "tw = pad_sequences(tw,maxlen=len(padded_sequence[index_example]))\n",
    "prediction = int(model.predict(tw).round().item())\n",
    "prediction"
   ]
  },
  {
   "cell_type": "markdown",
   "metadata": {},
   "source": [
    "-------------------------------------------------------------------------------------------------------------------------------"
   ]
  },
  {
   "cell_type": "markdown",
   "metadata": {},
   "source": [
    "#### Part V:  Summary and Recommendations\n",
    "\n",
    "##### E.  Provide the code used to save the trained network within the neural network."
   ]
  },
  {
   "cell_type": "code",
   "execution_count": 42,
   "metadata": {},
   "outputs": [
    {
     "name": "stdout",
     "output_type": "stream",
     "text": [
      "INFO:tensorflow:Assets written to: my_model\\assets\n"
     ]
    }
   ],
   "source": [
    "#saving the trained model:\n",
    "model.save('my_model')"
   ]
  },
  {
   "cell_type": "markdown",
   "metadata": {},
   "source": [
    "##### F.  Discuss the functionality of your neural network, including the impact of the network architecture."
   ]
  },
  {
   "cell_type": "markdown",
   "metadata": {},
   "source": [
    "Long short-term memory (LSTM) is an artificial recurrent neural network (RNN) architecture, well known for Its capability of learning long-term dependencies and to process entire sequences of data such as sequences of texts in this project, Unlike standard feedforward neural networks.\n",
    "\n",
    "A common LSTM unit is composed of a cell, an input gate, an output gate and a forget gate. The cell remembers values over arbitrary time intervals and the three gates regulate the flow of information into and out of the cell.\n",
    "The architecture of LSTM allows it to preserve the meaningful features of sequential data and to provide a good tool for sentiment analysis and prediction.\n",
    "The LSTM neural network model could successfully evaluate texts with relatively high accuracy.\n",
    "\n",
    "https://en.wikipedia.org/wiki/Long_short-term_memory\n"
   ]
  },
  {
   "cell_type": "markdown",
   "metadata": {},
   "source": [
    "##### G.  Recommend a course of action based on your results."
   ]
  },
  {
   "cell_type": "markdown",
   "metadata": {},
   "source": [
    "The overall accuracy of the model is relatively high, which represents the model’s ability to correctly predict both the positives and negatives out of all the predictions, the model could succesfully evaluate unseen texts .  \n",
    "although the number of data observations (reviews) used in trainig the model is very limited.\n",
    "The recommend course of action is to retrain the model using bigger data set in order to utilize such promising model in sentiment analysis."
   ]
  },
  {
   "cell_type": "markdown",
   "metadata": {},
   "source": [
    "-------------------------------------------------------------------------------------------------------------------------------"
   ]
  },
  {
   "cell_type": "markdown",
   "metadata": {},
   "source": [
    "#### Part VI: Reporting\n",
    "\n",
    "##### H.  Create your neural network using an industry-relevant interactive development environment (e.g., an R Markdown document, a Jupyter Notebook, etc.). Include a PDF or HTML document of your executed notebook presentation."
   ]
  },
  {
   "cell_type": "markdown",
   "metadata": {},
   "source": [
    "* (D213_TASK_2.html) and (D213_TASK_2.ipynb) files submitted."
   ]
  },
  {
   "cell_type": "markdown",
   "metadata": {},
   "source": [
    "##### I.  List the web sources used to acquire data or segments of third-party code to support the application."
   ]
  },
  {
   "cell_type": "markdown",
   "metadata": {},
   "source": [
    "##### Code web sources:\n",
    "\n",
    "\n",
    "Krish C Naik. (2020)\n",
    "https://github.com/krishnaik06/Natural-Language-Processing/\n",
    "\n",
    "Paul Karikari. (2020)\n",
    "https://medium.datadriveninvestor.com/deep-learning-lstm-for-sentiment-analysis-in-tensorflow-with-keras-api-92e62cde7626\n",
    "\n",
    "Jason Brownlee. (2018)\n",
    "https://machinelearningmastery.com/how-to-stop-training-deep-neural-networks-at-the-right-time-using-early-stopping/\n",
    "\n",
    "\n"
   ]
  },
  {
   "cell_type": "markdown",
   "metadata": {},
   "source": [
    "##### J.  Acknowledge sources, using in-text citations and references, for content that is quoted, paraphrased, or summarized."
   ]
  },
  {
   "cell_type": "markdown",
   "metadata": {},
   "source": [
    "### References:\n",
    "\n",
    "\n",
    "* Dimitrios Kotzias (2015) Sentiment Labelled Sentences Data Set.\n",
    "https://archive.ics.uci.edu/ml/datasets/Sentiment+Labelled+Sentences\n",
    "\n",
    "\n",
    "* Kotzias et. al (2015) From Group to Individual Labels using Deep Features. KDD 2015.\n",
    "\n",
    "\n",
    "* Paul Karikari. (2020) Deep Learning LSTM for Sentiment Analysis in Tensorflow with Keras API.\n",
    "https://medium.datadriveninvestor.com/deep-learning-lstm-for-sentiment-analysis-in-tensorflow-with-keras-api-92e62cde7626\n",
    "\n",
    "\n",
    "* Jason Brownlee. (2018) Use Early Stopping to Halt the Training of Neural Networks At the Right Time.\n",
    "https://machinelearningmastery.com/how-to-stop-training-deep-neural-networks-at-the-right-time-using-early-stopping/\n",
    "\n",
    "\n",
    "* Krish Naik. (2020) Natural Language Processing (youtube playlist).\n",
    "https://www.youtube.com/watch?v=fM4qTMfCoak&list=PLZoTAELRMXVMdJ5sqbCK2LiM0HhQVWNzm\n",
    "\n",
    "\n",
    "* Ajitesh Kumar. (2020) Accuracy, Precision, Recall & F1-Score – Python Examples\n",
    "https://vitalflux.com/accuracy-precision-recall-f1-score-python-example/\n",
    "\n",
    "\n",
    "* Sudip Shrestha.(2020)\n",
    "https://towardsdatascience.com/nlp-preparing-text-for-deep-learning-model-using-tensorflow2-461428138657\n",
    "\n",
    "\n",
    "* Rounak Banik. (No date) Feature Engineering for NLP in Python (Datacamp course).\n",
    "https://learn.datacamp.com/courses/feature-engineering-for-nlp-in-python\n",
    "\n",
    "\n",
    "* Dan Becker. (No date) Introduction to Deep Learning in Python (Datacamp course).\n",
    "https://learn.datacamp.com/courses/introduction-to-deep-learning-in-python\n",
    "\n",
    "\n",
    "* Katharine Jarmul. (No date) Introduction to Natural Language Processing in Python (Datacamp course).\n",
    "https://learn.datacamp.com/courses/introduction-to-natural-language-processing-in-python\n",
    "\n",
    "\n",
    "* Isaiah Hull. (No date) Introduction to TensorFlow in Python (Datacamp course).\n",
    "https://learn.datacamp.com/courses/introduction-to-tensorflow-in-python\n",
    "\n",
    "\n",
    "* Biswanath Halder. (No date) Natural Language Generation in Python (Datacamp course).\n",
    "https://learn.datacamp.com/courses/natural-language-generation-in-python\n",
    "\n",
    "\n",
    "* Violeta Misheva. (No date) Sentiment Analysis in Python (Datacamp course).\n",
    "https://learn.datacamp.com/courses/sentiment-analysis-in-python\n",
    "\n",
    "\n",
    "* General Questions/Answers from https://stackoverflow.com/\n",
    "\n",
    "\n",
    "* General Questions/Answers from https://github.com\n",
    "\n",
    "\n",
    "* Documentation of Python packages: pandas, matplotlib,numpy,sklearn,keras and Tensorflow 2"
   ]
  },
  {
   "cell_type": "markdown",
   "metadata": {},
   "source": [
    "##### K.  Demonstrate professional communication in the content and presentation of your submission."
   ]
  },
  {
   "cell_type": "markdown",
   "metadata": {},
   "source": [
    "-------------------------------------------------------------------------------------------------------------------------------\n",
    "\n",
    "<a href=\"https://wgu.hosted.panopto.com/Panopto/Pages/Viewer.aspx?id=602d3074-7583-402e-9434-ad570102f75b\" target=\"_blank\"> Link to the Panopto Video </a>\n",
    "\n",
    "https://wgu.hosted.panopto.com/Panopto/Pages/Viewer.aspx?id=602d3074-7583-402e-9434-ad570102f75b\n",
    "\n",
    "-------------------------------------------------------------------------------------------------------------------------------"
   ]
  }
 ],
 "metadata": {
  "kernelspec": {
   "display_name": "Python 3",
   "language": "python",
   "name": "python3"
  },
  "language_info": {
   "codemirror_mode": {
    "name": "ipython",
    "version": 3
   },
   "file_extension": ".py",
   "mimetype": "text/x-python",
   "name": "python",
   "nbconvert_exporter": "python",
   "pygments_lexer": "ipython3",
   "version": "3.8.5"
  }
 },
 "nbformat": 4,
 "nbformat_minor": 4
}
